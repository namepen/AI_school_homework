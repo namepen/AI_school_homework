{
 "cells": [
  {
   "cell_type": "markdown",
   "metadata": {},
   "source": [
    "bayes decision Theory\n",
    "    - 확률이 들어갈 것같은 느낌\n",
    "    - 확률 이론을 기반으로한 frame work에서 결정을 하자\n",
    "    - 가장 optimal한 decision을 내려보자\n",
    "    "
   ]
  },
  {
   "cell_type": "markdown",
   "metadata": {},
   "source": [
    "사람의 신용을 평가해보자\n",
    "    - 1. 좋은 사람 2. 안 좋은 사람 -> 2진분류로 나타내자\n",
    "    -> 베르누이 확률 분포(이항분포)를 통해서 표현이 가능하다.\n",
    "    - 판단 C = 1 (if P(c=1|x) > P(c=|x)\n",
    "    \n",
    "    확률에 대한 에러가 발생할 것이다. 일종의 risk\n",
    "    \n",
    "    이것을 바로 확률 계산하자 -> discrimitive\n",
    "    바로 계산을 못하지니까 bayes rule을 가져다가 계산하다 -> general\n",
    "    \n",
    "    decision은 사후확률을 기반으로 내린다.\n",
    "    \n",
    "    사후확률은 어떻게 정의할 것인가??\n",
    "    \n",
    "    p.4 c가 k개를 가질 경우에 사용\n",
    "        k -> prior을 다항 분포로 정의\n",
    "    \n",
    "    argmax\n",
    "    이 확률이 가장 큰 것을 선택할 것이니까 error를 최소화 한다.\n",
    "    상호 베타적이기 때문에."
   ]
  },
  {
   "cell_type": "markdown",
   "metadata": {},
   "source": [
    "범위를 넓혀서 확률에만 따라서 결정을 하지 않고 손실도 따져보자(loss)\n",
    "반영을 하는데 확률 frame에서 굉장히 편리하다\n",
    "\n",
    "틀렸다는 값에 대한 손실을 얼마인가를 정의 \n",
    "    모든 경우의 확률값과 손실 값을 곱한다. -> expectation\n",
    "    \n",
    "    risk의 관점에서 loss를 최소화 해야한다. argminR(ak |k)\n",
    "    e.g 맞추었다 -> 0의 로스 틀렸다 -> 1 loss\n",
    "    \n",
    "    계산했더니 probability error와 같다!\n",
    "    \n",
    "    "
   ]
  },
  {
   "cell_type": "markdown",
   "metadata": {},
   "source": [
    "p.11\n",
    "    - density estimation -> 분포를 결정하자. class의 분포는 어떻게 되어 있는가.\n",
    "    \n",
    "density estimation\n",
    "    - 데이터를 모아놓고 이러한 분포를 따르겠구나 하고 결정\n",
    "    - 기본 바탕 : 데이터를 확률 분포로부터 샘플링 할 수 있겠구나라는 가정\n",
    "    - 어떤 분포를 따르지 모르니까 가정을 하고 시작을 한다 -parametric(통계에서 잘 알고 있는 분포를 가져옴)\n",
    "    - 어떤 모델도 가정하지 않고 density를 가정한다. RBF...kernel\n",
    "    \n",
    "    \n",
    "    univariate -> 관측값이 하나\n",
    "    multivariate -> 관측값이 벡터\n",
    "    \n",
    "    *왜 기계학습에서 가우시안을 쓰는가?\n",
    "        - 확률 변수들이 계속 쌓이면 가우시안 분포를 따른다 -> 중심 극한 정리에 따라서\n",
    "        \n",
    "    *수식을 뜯어보자\n",
    "    x가 드러왔을때 평균에서 얼마나 떨어져 있는가, 판단 과정에서 분산을 고려한다. 앞에는 normalize term\n",
    "    \n",
    "    multi -> 유클리디안 거리에서 mahalanobis 거리로 변환\n",
    "    \n",
    "    가우시안의 corvariance에 따라서 decision boundary가 달라진다\n",
    "    \n",
    "    단점 : 추정해야할 변수의 수가 매우 많다.\n",
    "    평균의 갯수는 입력 demension의 수와 같다.\n",
    "    \n",
    "    적은수의 data로 많은 수의 parameter가 있으면 정확성이 떨어진다.\n",
    "    \n",
    "    covariance을 control하자\n",
    "    \n",
    "    이것을 direct하게 적용한 것이 naive bayes\n",
    "        - 변수간의 상관관계가 없다고 가정을 하자\n",
    "        - covariance가 없다고 가정, covariance가 독립\n",
    "        - 각각의 확률 변수를 univariate하게 계산후 곱해주자\n",
    "        "
   ]
  },
  {
   "cell_type": "markdown",
   "metadata": {},
   "source": [
    "평균과 분산을 계산한 값이 맞다고 할 수 있는가? -> MLE를 사용하자\n",
    "    - 우도가 최대가 되도록 정리\n",
    "    -prior를 상관하지 않고 likehood 값만 생각하자\n",
    "    - 모두가 독립이라고 가정하기 때문에 모든 값을 곱하면 된다.\n",
    "    \n"
   ]
  },
  {
   "cell_type": "markdown",
   "metadata": {},
   "source": [
    "regreesion\n",
    "    y = f(x) + E(noise) 이 노이즈가 가우시안 분포를 따른다라는 가정을 가지고 시작한다\n",
    "    \n",
    "MLE -> 단점 데이터가 적으면 overfiting 문제가 발생하기 쉽다."
   ]
  },
  {
   "cell_type": "markdown",
   "metadata": {},
   "source": [
    "가우시안을 쓰게되면 제약 사항이 생김 -> 튀어나온 봉우리가 1개이다 -> 평균을 기준으로 데이터가 뭉처 있다는 가정을 하게됨(uni modal)\n",
    "\n",
    "하지만 데이터가 여러 곳에 뭉처 있는 경우, 통계에서 나온 분포로 표현하기 어렵다 -> 여러개의 가우시안을 합쳐보자 -> GMM 모델\n",
    "\n",
    "가우시안의 합은 1"
   ]
  },
  {
   "cell_type": "markdown",
   "metadata": {},
   "source": [
    "어떤 class에 속할 확률로 나타내자 -> soft assign\n",
    "\n",
    "k -means : 평균만 고려, GMM -> 평균과 분포도 고려\n",
    "\n",
    "각각 가우시안의 weight는 어떻게 구하는가? 분포에 포함되어 있는 전체의 데이터 수를 고려하여 weight를 계산한다.\n",
    "\n",
    "세개중에 하나를 선택 1번을 선택 z(1) 확률 분포가 있다.\n",
    "이 가우시안에서 샘플을 만들어냄\n",
    "그다음 2번, 샘플 만듬 반복\n",
    "\n",
    "그 샘플을 모두 합침..\n",
    "\n",
    "그 전의 분포를 알수없음, 이 데이터가 어디서 왔는지 알수가 없다 -> 근사를 시키자"
   ]
  },
  {
   "cell_type": "markdown",
   "metadata": {},
   "source": [
    "singly value가 나오면 가우시안을 정의할 수 없음...\n",
    "-> k-means를 먼저 사용 후 적절한 초기값을 가지고 gmm 작업을 수행하면 잘 돌아간다\n",
    "초기값에 따라 결과가 달라지므로 최적값이라고 보장 할 수는 없음.\n",
    "\n",
    "E - latent 변수에 대해서 추정을 하는 과정. \n",
    "\n",
    "latent와 observation 을 둘다 가지고 있다. complete data를 가지고 있다.\n",
    "\n",
    "latent 변수가 있다 hidden 변수가 있을 경우, 해당 변수를 먼저 추정 후에 모델을 적용한다.\n"
   ]
  }
 ],
 "metadata": {
  "kernelspec": {
   "display_name": "Python 3",
   "language": "python",
   "name": "python3"
  },
  "language_info": {
   "codemirror_mode": {
    "name": "ipython",
    "version": 3
   },
   "file_extension": ".py",
   "mimetype": "text/x-python",
   "name": "python",
   "nbconvert_exporter": "python",
   "pygments_lexer": "ipython3",
   "version": "3.6.1"
  }
 },
 "nbformat": 4,
 "nbformat_minor": 2
}
