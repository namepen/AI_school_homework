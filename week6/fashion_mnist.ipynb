{
 "cells": [
  {
   "cell_type": "code",
   "execution_count": 1,
   "metadata": {},
   "outputs": [
    {
     "ename": "ModuleNotFoundError",
     "evalue": "No module named 'torch'",
     "output_type": "error",
     "traceback": [
      "\u001b[1;31m---------------------------------------------------------------------------\u001b[0m",
      "\u001b[1;31mModuleNotFoundError\u001b[0m                       Traceback (most recent call last)",
      "\u001b[1;32m<ipython-input-1-2ebbd1e1eb0d>\u001b[0m in \u001b[0;36m<module>\u001b[1;34m()\u001b[0m\n\u001b[0;32m      1\u001b[0m \u001b[1;31m#setting\u001b[0m\u001b[1;33m\u001b[0m\u001b[1;33m\u001b[0m\u001b[0m\n\u001b[1;32m----> 2\u001b[1;33m \u001b[1;32mimport\u001b[0m \u001b[0mtorch\u001b[0m\u001b[1;33m\u001b[0m\u001b[0m\n\u001b[0m\u001b[0;32m      3\u001b[0m \u001b[1;32mimport\u001b[0m \u001b[0mtorch\u001b[0m\u001b[1;33m.\u001b[0m\u001b[0m_utils\u001b[0m\u001b[1;33m\u001b[0m\u001b[0m\n\u001b[0;32m      4\u001b[0m \u001b[1;32mtry\u001b[0m\u001b[1;33m:\u001b[0m\u001b[1;33m\u001b[0m\u001b[0m\n\u001b[0;32m      5\u001b[0m     \u001b[0mtorch\u001b[0m\u001b[1;33m.\u001b[0m\u001b[0m_utils\u001b[0m\u001b[1;33m.\u001b[0m\u001b[0m_rebuild_tensor_v2\u001b[0m\u001b[1;33m\u001b[0m\u001b[0m\n",
      "\u001b[1;31mModuleNotFoundError\u001b[0m: No module named 'torch'"
     ]
    }
   ],
   "source": [
    "#setting\n",
    "import torch\n",
    "import torch._utils\n",
    "try:\n",
    "    torch._utils._rebuild_tensor_v2\n",
    "except AttributeError:\n",
    "    def _rebuild_tensor_v2(storage, storage_offset, size, stride, requires_grad, backward_hooks):\n",
    "        tensor = torch._utils._rebuild_tensor(storage, storage_offset, size, stride)\n",
    "        tensor.requires_grad = requires_grad\n",
    "        tensor._backward_hooks = backward_hooks\n",
    "        return tensor\n",
    "    torch._utils._rebuild_tensor_v2 = _rebuild_tensor_v2\n",
    "import torch.nn as nn\n",
    "import torchvision\n",
    "import torchvision.transforms as transforms\n",
    "from torch.utils.data import Dataset\n",
    "from torch.autograd import Variable\n",
    "import numpy as np"
   ]
  },
  {
   "cell_type": "code",
   "execution_count": null,
   "metadata": {
    "collapsed": true
   },
   "outputs": [],
   "source": [
    "# 결과를 출력하기 위한 엘리스 유틸리티 툴을 불러옵니다.\n",
    "import elice_utils\n",
    "eu = elice_utils.EliceUtils()"
   ]
  },
  {
   "cell_type": "code",
   "execution_count": null,
   "metadata": {
    "collapsed": true
   },
   "outputs": [],
   "source": [
    "class Dataset(Dataset):\n",
    "    def __init__(self, pt_file_path, transform = None):\n",
    "        self.data, self.labels = torch.load(pt_file_path)\n",
    "        self.transform = transform\n",
    "\n",
    "    def __len__(self):\n",
    "        return len(self.labels)\n",
    "\n",
    "    def __getitem__(self, index):\n",
    "        sample_data = self.data[index]\n",
    "        sample_label = self.labels[index]\n",
    "        if self.transform:\n",
    "            sample_data = self.transform(sample_data.unsqueeze(2).numpy())\n",
    "\n",
    "        return sample_data, sample_label\n",
    "\n",
    "num_epochs = 4\n",
    "\n",
    "normalize = transforms.Normalize(mean=[x/255.0 for x in [125.3, 123.0, 113.9]],\n",
    "                                     std=[x/255.0 for x in [63.0, 62.1, 66.7]])\n",
    "\n",
    "transform = transforms.Compose([transforms.ToPILImage(),\n",
    "                                transforms.ToTensor()])\n",
    "\n",
    "# Dataloader 파라매터\n",
    "params = {'batch_size': 4,\n",
    "          'shuffle': False}\n",
    "training_set, validation_set = Dataset('./data/train.pt', transform), Dataset('./data/valid.pt', transform)\n",
    "train_loader = torch.utils.data.DataLoader(training_set, **params)\n",
    "valid_loader = torch.utils.data.DataLoader(validation_set, **params)"
   ]
  },
  {
   "cell_type": "code",
   "execution_count": null,
   "metadata": {
    "collapsed": true
   },
   "outputs": [],
   "source": [
    "class FASHION_MNIST_Net(nn.Module):\n",
    "    def __init__(self):\n",
    "        super(FASHION_MNIST_Net, self).__init__()\n",
    "        # an affine operation: y = Wx + b\n",
    "        self.fc0 = nn.Linear(28*28, 30)\n",
    "        self.fc1 = nn.Linear(30, 4)\n",
    "\n",
    "    def forward(self, x):\n",
    "        x = x.view(-1,28*28) # (Batch_size,28,28) --> (Batch_size,28*28)로 변환\n",
    "        x = nn.functional.sigmoid(self.fc0(x)) # 28*28 -> 30\n",
    "        x = self.fc1(x)  # 30 -> 4 으로 4개의 Class에 대한 logit 값을 호출합니다. \n",
    "        return x\n",
    "\n",
    "fashion_mnist_net = FASHION_MNIST_Net()\n",
    "criterion = nn.CrossEntropyLoss()\n",
    "optimizer = torch.optim.Adam(fashion_mnist_net.parameters(), lr=0.0001)"
   ]
  },
  {
   "cell_type": "code",
   "execution_count": null,
   "metadata": {
    "collapsed": true
   },
   "outputs": [],
   "source": [
    "def train_network(net,optimizer,train_loader):\n",
    "    for epoch in range(num_epochs):  # loop over the dataset multiple times\n",
    "        for i, data in enumerate(train_loader): # 한 Epoch 만큼 돕니다. 매 iteration 마다 정해진 Batch size 만큼 데이터를 뱉습니다. \n",
    "            # get the inputs\n",
    "            inputs, labels = data # DataLoader iterator의 반환 값은 input_data 와 labels의 튜플 형식입니다. \n",
    "            inputs = Variable(inputs)#.cuda() # Pytorch에서 nn.Module 에 넣어 Backprop을 계산 하기 위해서는 Variable로 감싸야 합니다.\n",
    "            labels = Variable(labels)#.cuda()\n",
    "            # zero the parameter gradients\n",
    "            optimizer.zero_grad()    #  현재 기존의 backprop을 계산하기 위해서 저장했던 activation buffer 를 비웁니다. Q) 이걸 안 한다면?\n",
    "\n",
    "            # forward + backward + optimize\n",
    "            outputs = net(inputs) # input 을 넣은 위 network 로 부터 output 을 얻어냅니다. \n",
    "            loss = criterion(outputs, labels) # loss fucntion에 주어진 target과 output 의 score를 계산하여 반환합니다. \n",
    "            loss.backward(retain_graph=True) # * Scalar Loss value를 Backward() 해주게 되면 주어진 loss값을 바탕으로 backpropagation이 진행됩니다. \n",
    "            optimizer.step() # 계산된 Backprop 을 바탕으로 optimizer가 gradient descenting 을 수행합니다. \n",
    "\n",
    "\n",
    "        # 검증 데이터 정확도 측정\n",
    "        correct = 0\n",
    "        total = 0\n",
    "\n",
    "        for images, labels in valid_loader:\n",
    "            images = Variable(images)\n",
    "            labels = Variable(labels)\n",
    "\n",
    "            # logit과 output을 얻기 위해 model의 Forward pass에 입력\n",
    "            outputs = net(images)\n",
    "\n",
    "            # 예측한 클래스 얻기\n",
    "            _, predicted = torch.max(outputs.data, 1)\n",
    "\n",
    "            # 미니배치의 검증 데이터 수\n",
    "            total += labels.size(0)\n",
    "\n",
    "            # 미니배치 중 맞은 갯수\n",
    "            correct += (predicted == labels.data).sum()\n",
    "\n",
    "        # 전체 검증 데이터 정확도\n",
    "        accuracy = 100 * correct / total\n",
    "\n",
    "        # loss 출력\n",
    "        print('Epoch: {}. Training Loss: {}. Validation Accuracy: {}'.format(epoch, loss.data[0], accuracy))\n",
    "\n",
    "\n",
    "    print('Finished Training')"
   ]
  },
  {
   "cell_type": "code",
   "execution_count": null,
   "metadata": {
    "collapsed": true
   },
   "outputs": [],
   "source": [
    "def test(model,valid_loader):\n",
    "    model.eval() # Eval Mode 왜 해야 할까요?  --> nn.Dropout BatchNorm 등의 Regularization 들이 test 모드로 들어가게 되기 때문입니다. \n",
    "    test_loss = 0\n",
    "    correct = 0\n",
    "    for data, target in valid_loader:\n",
    "        data, target = Variable(data), Variable(target)  # 기존의 train function의 data 처리부분과 같습니다. \n",
    "        output = model(data) \n",
    "        pred = output.max(1, keepdim=True)[1] # get the index of the max \n",
    "        correct += pred.eq(target.view_as(pred)).sum().data[0] # 정답 데이터의 갯수를 반환합니다. \n",
    "\n",
    "    test_loss /= len(valid_loader.dataset)\n",
    "    print('\\nTest set:  Accuracy: {}/{} ({:.0f}%)\\n'.format(\n",
    "        correct, len(valid_loader.dataset),\n",
    "        100. * correct / len(valid_loader.dataset)))"
   ]
  },
  {
   "cell_type": "code",
   "execution_count": null,
   "metadata": {
    "collapsed": true
   },
   "outputs": [],
   "source": [
    "train_network(fashion_mnist_net,optimizer,train_loader) # 4 Epoch 정도 학습을 진행해봅니다. \n",
    "\n",
    "test(fashion_mnist_net,valid_loader) # Test 정확도를 출력해 봅니다. "
   ]
  }
 ],
 "metadata": {
  "kernelspec": {
   "display_name": "Python 3",
   "language": "python",
   "name": "python3"
  },
  "language_info": {
   "codemirror_mode": {
    "name": "ipython",
    "version": 3
   },
   "file_extension": ".py",
   "mimetype": "text/x-python",
   "name": "python",
   "nbconvert_exporter": "python",
   "pygments_lexer": "ipython3",
   "version": "3.6.5"
  }
 },
 "nbformat": 4,
 "nbformat_minor": 2
}
