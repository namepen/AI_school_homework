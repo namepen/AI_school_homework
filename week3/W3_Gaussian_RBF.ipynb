{
 "cells": [
  {
   "cell_type": "code",
   "execution_count": 0,
   "metadata": {
    "colab": {
     "autoexec": {
      "startup": false,
      "wait_interval": 0
     }
    },
    "colab_type": "code",
    "collapsed": true,
    "id": "B0GXyXkiRVbC"
   },
   "outputs": [],
   "source": [
    "from copy import deepcopy\n",
    "\n",
    "import numpy as np\n",
    "import seaborn as sb\n",
    "import pandas\n",
    "import matplotlib.pyplot as plt\n",
    "from sklearn.datasets import load_iris, load_boston\n",
    "from sklearn.linear_model import LinearRegression, RidgeClassifier, LogisticRegression, Lasso\n",
    "from sklearn.model_selection import GridSearchCV, cross_val_score, KFold, StratifiedKFold\n",
    "from pylab import scatter, show, legend, xlabel, ylabel\n",
    "%matplotlib inline"
   ]
  },
  {
   "cell_type": "markdown",
   "metadata": {
    "colab_type": "text",
    "id": "AelQ7rJ98Puc"
   },
   "source": [
    "# *K*-means Clustering\n",
    "\n",
    "*K*-means is a very simple algorithm which clusters the data into *K* number of clusters.\n",
    "\n",
    "\n",
    "-Algorithm\n",
    "\n",
    "Assume that we have inputs $x_1, x_2, x_3, ..., x_n$ and value of *K*.\n",
    "\n",
    "**Step 1**: Pick *K* random points as cluster centers called centroids.\n",
    "\n",
    "$$C=c_1,c_2,...,c_k$$ \n",
    "\n",
    "**Step 2**: Assign each $x_i$ to nearest cluster by calculating its distance to each centroid. \n",
    "\n",
    "$$\\arg\\min_{c_i\\in C}{dist(c_i,x)^2}$$\n",
    "\n",
    "**Step 3**: Find new cluster center by taking the average of the assigned points.\n",
    "\n",
    "$$c_i=\\dfrac{1}{|S_i|}\\sum_{x_i\\in S_i}x_i$$\n",
    "\n",
    "**Step 3**: Repeat **Step 2** and **Step 3** until none of the cluster assignments change."
   ]
  },
  {
   "cell_type": "markdown",
   "metadata": {
    "colab_type": "text",
    "id": "ZQDAvCxTCpE0"
   },
   "source": [
    "### Norm\n",
    "$$L_p=(\\sum_i^n|x_i|^p)^{\\frac{1}{p}}$$\n",
    "\n",
    "-**L1 Norm** (*Taxicab Norm* or *Manhattan norm*)\n",
    "$$L_1=(\\sum_i^n|x_i|)=|x_1|+|x_2|+|x_3|+...+|x_n|$$"
   ]
  },
  {
   "cell_type": "code",
   "execution_count": 0,
   "metadata": {
    "colab": {
     "autoexec": {
      "startup": false,
      "wait_interval": 0
     }
    },
    "colab_type": "code",
    "collapsed": true,
    "id": "lAEroK2GRCPO"
   },
   "outputs": [],
   "source": [
    "## K-means \n",
    "\n",
    "# 1. clustering\n",
    "# 2. compute the mean and standard deviation for RBF\n",
    "\n",
    "\n",
    "class kmeans(object):\n",
    "  \n",
    "    def __init__(self, k): \n",
    "        self.k = k  \n",
    "      \n",
    "    \n",
    "    # calculate Euclidean distance\n",
    "    def dist(self, a, b, ax=1):\n",
    "        return np.linalg.norm(a-b, axis=ax)\n",
    "      \n",
    "    \n",
    "    def doClustering(self, X):\n",
    "      \n",
    "        # X coordinates of random centroids\n",
    "        C_x = np.random.choice(X.ravel(), size=self.k)  # generate a random sample from a given 1-D array\n",
    "    \n",
    "        # Y coordinates of random centroids\n",
    "        if X.shape[1]>1:\n",
    "            C_y = np.random.choice(X.ravel(), size=self.k)\n",
    "            C = np.array(list(zip(C_x, C_y)), dtype=np.float32)\n",
    "        else:\n",
    "            C = C_x.reshape(len(C_x),1)\n",
    "        \n",
    "        # store the value of centroids when it updates\n",
    "        C_old = np.zeros(C.shape)\n",
    "\n",
    "        # cluster lable set\n",
    "        clusters = np.zeros(X.shape[0])\n",
    "        \n",
    "        # distance between new centroids and old centroids\n",
    "        cond = self.dist(C, C_old, None)\n",
    "\n",
    "        # run till the error arrives epsilon value\n",
    "        epsilon = 1e-6\n",
    "        \n",
    "        while cond > epsilon:\n",
    "          \n",
    "            # assign each value to its closest cluster\n",
    "            for i in range(len(X)):\n",
    "                distances = self.dist(X[i], C)\n",
    "                clusters[i] = np.argmin(distances)\n",
    "                \n",
    "            # store the old centroid values\n",
    "            C_old = deepcopy(C)\n",
    "        \n",
    "            # find the new centroids by taking the average value\n",
    "            for i in range(self.k):\n",
    "                points = [X[j] for j in range(len(X)) if clusters[j] == i]\n",
    "                C[i] = np.mean(points, axis=0)\n",
    "                \n",
    "            cond = self.dist(C, C_old, None)\n",
    "        \n",
    "        \n",
    "        pointsPerCluster = []\n",
    "        for i in range(self.k):\n",
    "            points = np.array([X[j] for j in range(len(X)) if clusters[j] == i])\n",
    "            pointsPerCluster.append(points)\n",
    "                \n",
    "        ## visualize for multi-dimensional case    \n",
    "        if X.shape[1] > 1:  \n",
    "            colors = ['r', 'g', 'b', 'y', 'c', 'm']\n",
    "            fig, ax = plt.subplots()\n",
    "            \n",
    "            for i in range(self.k):\n",
    "                points = np.array([X[j] for j in range(len(X)) if clusters[j] == i])\n",
    "                ax.scatter(points[:, 0], points[:, 1], s=7, c=colors[i])\n",
    "            ax.scatter(C[:, 0], C[:, 1], marker='*', s=200, c='#050505')\n",
    "\n",
    "        return C, pointsPerCluster\n",
    "        \n",
    "      \n",
    "    def doRBF(self, X):\n",
    "      \n",
    "        clusters = np.zeros(self.k)\n",
    "        stds = np.zeros(self.k)\n",
    "        \n",
    "        C, pointsPerCluster = self.doClustering(X)\n",
    "        \n",
    "        for i in range(self.k):\n",
    "            clusters[i] = C[i]\n",
    "            stds[i] = np.mean(np.std(pointsPerCluster[i]))\n",
    "           \n",
    "        return clusters, stds   "
   ]
  },
  {
   "cell_type": "code",
   "execution_count": 0,
   "metadata": {
    "colab": {
     "autoexec": {
      "startup": false,
      "wait_interval": 0
     }
    },
    "colab_type": "code",
    "collapsed": true,
    "id": "pBw9eNw5xOnu"
   },
   "outputs": [],
   "source": [
    "def simulateData(numData1=100, numData2=100, numData3=100):\n",
    "#     mu1 = [-5, -5]\n",
    "#     mu2 = [0, 0]\n",
    "#     mu3 = [10, -10]\n",
    "\n",
    "    mu1 = [-2, -2]\n",
    "    mu2 = [0, 0]\n",
    "    mu3 = [2, -2]\n",
    "    \n",
    "    cov1 = [[1, 0], [0, 1]]\n",
    "    cov2 = [[2, 0], [0, 1]]\n",
    "    cov3 = [[1, 0], [0, 2]]\n",
    "    \n",
    "    data1 = np.random.multivariate_normal(mu1, cov1, numData1)\n",
    "    data2 = np.random.multivariate_normal(mu2, cov2, numData2)\n",
    "    data3 = np.random.multivariate_normal(mu3, cov3, numData3)\n",
    "    \n",
    "    return data1, data2, data3"
   ]
  },
  {
   "cell_type": "code",
   "execution_count": 347,
   "metadata": {
    "colab": {
     "autoexec": {
      "startup": false,
      "wait_interval": 0
     },
     "base_uri": "https://localhost:8080/",
     "height": 513
    },
    "colab_type": "code",
    "executionInfo": {
     "elapsed": 1240,
     "status": "ok",
     "timestamp": 1528185188237,
     "user": {
      "displayName": "Eunji Jun",
      "photoUrl": "//lh3.googleusercontent.com/-NAApMaOBXJo/AAAAAAAAAAI/AAAAAAAAEhM/_uKtqLTEd78/s50-c-k-no/photo.jpg",
      "userId": "101707959171128419571"
     },
     "user_tz": -540
    },
    "id": "5UBbUqxDv84b",
    "outputId": "55e98a9e-1150-4b4f-d2fe-cb55f197fe6b"
   },
   "outputs": [
    {
     "data": {
      "image/png": "[encoded data removed]",
      "text/plain": [
       "<matplotlib.figure.Figure at 0x7fc50f2ec7f0>"
      ]
     },
     "metadata": {
      "tags": []
     },
     "output_type": "display_data"
    },
    {
     "data": {
      "image/png": "[encoded data removed]",
      "text/plain": [
       "<matplotlib.figure.Figure at 0x7fc50f604438>"
      ]
     },
     "metadata": {
      "tags": []
     },
     "output_type": "display_data"
    }
   ],
   "source": [
    "## Clustering example\n",
    "\n",
    "clsData1, clsData2, clsData3 = simulateData(100, 100)\n",
    "\n",
    "X = np.vstack((clsData1, clsData2, clsData3))\n",
    "y = np.concatenate((np.zeros((len(clsData1),1)), np.ones((len(clsData2),1)), 2*np.ones((len(clsData3),1))))\n",
    "\n",
    "\n",
    "## original unclustered data\n",
    "scatter(X[:,0],X[:,1],marker='o', c='k')\n",
    "show()\n",
    "\n",
    "## clustered data by k-means clustering\n",
    "mykmeans = kmeans(k=3)\n",
    "C, std = mykmeans.doClustering(X)"
   ]
  },
  {
   "cell_type": "markdown",
   "metadata": {
    "colab_type": "text",
    "id": "85B3oFYUQoON"
   },
   "source": [
    "# Using Neural Networks for Regression or Classification\n",
    "\n",
    "Radial Basis Function (RBF) is used for exact **regression or function approximation**. RBF nets can learn to approximate the underlying trend using many *bell curves*.\n",
    "\n",
    "An RBF  is similar to a **2-layer network**. We have an input that is fully connected to a hidden layer. Then, we take the output of the hidden layer by performing a weighted sum.\n",
    "\n",
    "But what is that inside the hidden layer neurons? That is a **Gaussian RBF**! This differentiates an RBF net from a regular neural network: we’re using an RBF as our “activation” function (more specifically, a Gaussian RBF).\n",
    "\n",
    "We can use a linear combination of Gaussians to approximate any function! When we take the sum, we get a continuous function! To do this, we need to know **1) where to place the Gaussian centers $c_j$** and **2) their standard deviations $\\sigma_j$**.\n",
    "\n",
    "**1) where to place the Gaussian centers $c_j$**\n",
    "We can use ***k*-means clustering** on our input data to figure out where to place the Gaussians. The reasoning behind this is that we want our Gaussians to “span” the largest clusters of data since they have that bell-curve shape.\n",
    "\n",
    "**2) their standard deviations $\\sigma_j$**\n",
    "There are two approaches we can take: *set the standard deviation to be that of the points assigned to a particular cluster $c_j$* or we can use *a single standard deviation for all clusters* $\\sigma_j = \\sigma \\forall j$ where $\\sigma=\\frac{d_\\text{max}}{\\sqrt{2k}}$ where $d_\\text{max}$ is the maximum distance between any two cluster centers, and $k$ is the number of cluster centers.\n"
   ]
  },
  {
   "cell_type": "markdown",
   "metadata": {
    "colab_type": "text",
    "id": "26hIZjNt8cLc"
   },
   "source": [
    "How many Gaussians do we use? That’s a *hyperparameter* called the number of bases or kernels $k$.\n",
    "\n",
    "$$ F(x)=\\sum_{j=1}^{k}{w_{j}\\varphi_{j}(x,c_j)+b}$$\n",
    "where $w_j$ are the weights, $b$ is the bias, $k$ is the number of bases/clusters/centers, and $\\varphi_{j}(\\cdot)$ is the Gaussian RBF:\n",
    "$$\\varphi_{j}(x,c_j)=\\text{exp}\\left(\\frac{-||x-c_j||^2}{2\\sigma^2_j}\\right)$$"
   ]
  },
  {
   "cell_type": "code",
   "execution_count": 0,
   "metadata": {
    "colab": {
     "autoexec": {
      "startup": false,
      "wait_interval": 0
     }
    },
    "colab_type": "code",
    "collapsed": true,
    "id": "ProIeknapYog"
   },
   "outputs": [],
   "source": [
    "## Regression or classification using radial basis function \n",
    "\n",
    "class RBF(object):\n",
    "  \n",
    "    \"\"\"Implementation of a Radial Basis Function Network\"\"\"\n",
    "    \n",
    "    def __init__(self, k=2, lr=0.01, epochs=3000, inferStds=True, isRegress=True, numClass=2):\n",
    "        \n",
    "        self.k = k\n",
    "        self.lr = lr\n",
    "        self.epochs = epochs\n",
    "        self.inferStds = inferStds       \n",
    "        self.isRegress = isRegress\n",
    "        self.numClass = numClass\n",
    "        \n",
    "        self.mymodel = []\n",
    "        \n",
    "        if self.isRegress:  # for regression case\n",
    "            self.mymodel = myLinearRegressor(eta=self.lr, epochs=self.epochs, numDim=self.k+1)\n",
    "        else:  # for classification case\n",
    "            self.mymodel = myLogisticRegressor(eta=self.lr, epochs=self.epochs, numDim=self.k+1, numClass=numClass)\n",
    "        \n",
    "\n",
    "    def fit(self, X,y):\n",
    "      if self.inferStds:\n",
    "          ## compute stds from data\n",
    "          Dokmeans = kmeans(self.k)\n",
    "          self.centers, self.stds = Dokmeans.doRBF(X.reshape(len(X),-1))\n",
    "          \n",
    "      else:\n",
    "          ## use a fixed std\n",
    "          Dokmeans = kmeans(self.k)\n",
    "          self.centers, _ = Dokmeans.doRBF(X.reshape(len(X),-1))\n",
    "          dMax = max([np.abs(c1-c2) for c1 in self.centers for c2 in self.centers])\n",
    "          self.stds = np.repeat(dMax / np.sqrt(2*self.k), self.k)\n",
    "\n",
    "      ## training\n",
    "      a = np.array([self.rbf(X, c, s) for c, s, in zip(self.centers, self.stds)]).T  # Gaussian RBF\n",
    "      a = np.hstack((a, np.ones((a.shape[0],1))))  # add bias\n",
    "      self.mymodel.fit(a, y)\n",
    "\n",
    "    \n",
    "    def rbf(self, X, c, s):\n",
    "      return np.exp(-1/(2*s**2) *(X-c)**2)\n",
    "            \n",
    "            \n",
    "    def predict(self, X):\n",
    "      a = np.array([self.rbf(X, c, s) for c, s, in zip(self.centers, self.stds)]).T\n",
    "      a = np.hstack((a, np.ones((a.shape[0],1))))\n",
    "      \n",
    "      y_pred = self.mymodel.predict(a)\n",
    "                    \n",
    "      return y_pred"
   ]
  },
  {
   "cell_type": "markdown",
   "metadata": {
    "colab_type": "text",
    "id": "dAUj7ZNwRGaf"
   },
   "source": [
    "We have options for **the number of bases, learning rate, number of epochs, which RBF to use, and if we want to use the standard deviations from *k*-means**. \n",
    "\n",
    "We also initialize the weights and bias."
   ]
  },
  {
   "cell_type": "markdown",
   "metadata": {
    "colab_type": "text",
    "id": "XEQ_crMDRLbI"
   },
   "source": [
    "We can derive the update rules for $w_j$ and $b$ for **gradient descent**. We use the **quadratic cost function** to minimize.\n",
    "\n",
    "$$C=\\sum_{i=1}^{N}{(y^{(i)}-F(x^{(i)})^2}$$\n",
    "\n",
    "We can derive the update rule for $w_j$ by computing the **partial derivative of the cost function** with respect to all of the $w_j$.\n",
    "\n",
    "$$\\frac{\\partial C}{\\partial w_j}=\\frac{\\partial C}{\\partial F}\\cdot\\frac{\\partial F}{\\partial w_j}\\\\\n",
    "=\\frac{\\partial }{\\partial F}[\\sum_{i=1}^N (y^{(i)}-F(x^{(i)})^2]\\cdot\\frac{\\partial }{\\partial w_j}[\\sum_{j=0}^K w_j\\varphi_j(x,c_j) + b]\\\\\n",
    "=-(y^{(i)}-F(x^{(i)})\\cdot\\varphi_j(x,c_j)\\\\ \n",
    "\\therefore w_j \\gets w_j + \\eta(y^{(i)}-F(x^{(i)})\\varphi_j(x,c_j)$$ \n",
    "\n",
    "Similarly, we can derive the update rules for $b$ by computing the **partial derivative of the cost function** with respect to $b$.\n",
    "\n",
    "$$\\frac{\\partial C}{\\partial b} = \\frac{\\partial C}{\\partial F}\\cdot \\frac{\\partial F}{\\partial b}\\\\ =\\frac{\\partial }{\\partial F}[\\displaystyle\\sum_{i=1}^N (y^{(i)}-F(x^{(i)})^2]\\cdot\\frac{\\partial }{\\partial b}[\\sum_{j=0}^K w_j\\varphi_j(x,c_j) + b]\\\\ =-(y^{(i)}-F(x^{(i)})\\cdot 1\\\\ \n",
    "\\therefore b \\gets b + \\eta(y^{(i)}-F(x^{(i)})$$\n",
    "\n",
    "Now we have our **backpropagation rules**!"
   ]
  },
  {
   "cell_type": "code",
   "execution_count": 0,
   "metadata": {
    "colab": {
     "autoexec": {
      "startup": false,
      "wait_interval": 0
     }
    },
    "colab_type": "code",
    "collapsed": true,
    "id": "-xvnjm97xp26"
   },
   "outputs": [],
   "source": [
    "class myLinearRegressor(object):\n",
    "  \n",
    "    \"\"\"Implementation of a Binary Class Logistic Regression\"\"\"\n",
    "    \n",
    "    \n",
    "    def __init__(self, eta, epochs, numDim):\n",
    "      self.eta = eta  # learning rate\n",
    "      self.epochs = epochs  # the number of epochs\n",
    "      self.theta = []\n",
    "      self.initTheta(numDim)\n",
    "      \n",
    "      \n",
    "    def initTheta(self, numDim):\n",
    "      ## make the theta be random values from a uniform distribution over [0, 1)\n",
    "      self.theta = np.random.rand(numDim).reshape([-1,numDim]) \n",
    "        \n",
    "        \n",
    "    def fit(self, X, y, init=True, verbose=True):\n",
    "      if init==True:\n",
    "        self.initTheta(len(X[0]))  #  (1  X  # of the features)\n",
    "        \n",
    "      for i in range(self.epochs):\n",
    "          self.gradientDescent(X, y) \n",
    "     \n",
    "    \n",
    "    def gradientDescent(self, X, y):\n",
    "      CFDerivative = self.Cost_Function_Derivative(X, y)\n",
    "      self.theta = self.theta - float(self.eta)*CFDerivative\n",
    "    \n",
    "   \n",
    "    ## calculate a gradient value by taking the gradient of the cost function\n",
    "    def Cost_Function_Derivative(self, X, y):\n",
    "      h = self.hypothesis(X)\n",
    "\n",
    "      error = (h-y) * X\n",
    "      gradient = np.sum(error, axis=0)\n",
    "\n",
    "      J = (1/float(len(y))) * gradient\n",
    "      return J \n",
    "      \n",
    "      \n",
    "    def hypothesis(self, X):\n",
    "      h = np.dot(X, self.theta.T)\n",
    "      return h.reshape(len(h),1)\n",
    "    \n",
    "    \n",
    "    def predict(self, X):\n",
    "      return self.hypothesis(X)\n",
    "    \n",
    "       \n",
    "    def plot_decision_regions(self, X, y, numDim, resolution=0.02):\n",
    "      ## setup marker generator and color map\n",
    "      markers = ('s', 'x', 'o', '^', 'v')\n",
    "      colors = ('red', 'blue', 'lightgreen', 'gray', 'cyan')\n",
    "      cmap = ListedColormap(colors[:len(np.unique(y))])\n",
    "\n",
    "      ## plot the decision surface\n",
    "      x1_min, x1_max = X[:,0].min() - 1, X[:,0].max()+1\n",
    "      x2_min, x2_max = X[:,1].min() - 1, X[:,1].max()+1\n",
    "      xx1, xx2 = np.meshgrid(np.arange(x1_min, x1_max, resolution), np.arange(x2_min, x2_max, resolution))\n",
    "      \n",
    "      data = np.array([xx1.ravel(), xx2.ravel()]).T\n",
    "      if numDim>2:\n",
    "        data = np.hstack((data, np.ones((len(data[:,1]), 1))))\n",
    "        \n",
    "      Z = self.predict(data)\n",
    "      Z = Z.reshape(xx1.shape)\n",
    "      \n",
    "      plt.contourf(xx1, xx2, Z, alpha=0.4, cmap=cmap)  # draw filled contours\n",
    "      plt.xlim(xx1.min(), xx1.max())\n",
    "      plt.ylim(xx2.min(), xx2.max())\n",
    "\n",
    "      # plot class samples\n",
    "      labelSet = ['class 1', 'class 2']\n",
    "      for idx, c1 in enumerate(np.unique(y)):\n",
    "          classidx = np.where(y==c1)\n",
    "          plt.scatter(x=X[classidx,0], y=X[classidx,1], alpha=0.8, c=cmap(idx), marker=markers[idx], label=labelSet[idx])\n",
    "          \n",
    "      plt.show()"
   ]
  },
  {
   "cell_type": "code",
   "execution_count": 0,
   "metadata": {
    "colab": {
     "autoexec": {
      "startup": false,
      "wait_interval": 0
     }
    },
    "colab_type": "code",
    "collapsed": true,
    "id": "S_jiK47rrE3C"
   },
   "outputs": [],
   "source": [
    "class myLogisticRegressor(object):\n",
    "  \n",
    "    \"\"\"Implementation of a Logistic Regression\"\"\"\n",
    "    \n",
    "    def __init__(self, eta, epochs, numDim, numClass):\n",
    "      self.eta = eta\n",
    "      self.epochs = epochs\n",
    "      self.theta = []\n",
    "      self.initTheta(numDim, numClass)\n",
    "      \n",
    "      \n",
    "    def initTheta(self, numDim, numClass):\n",
    "      self.theta = np.random.rand(numDim*numClass).reshape([numDim, numClass])\n",
    "\n",
    "        \n",
    "    def fit(self, X, y, init=True, verbose=False):\n",
    "      if init==True:\n",
    "        self.initTheta(len(X[1,:]), len(np.unique(y)))\n",
    "        \n",
    "      costSet = []\n",
    "      for i in range(self.epochs):\n",
    "          self.gradientDescent(X, y)\n",
    "          cost = self.Cost_Function(X, y)\n",
    "          costSet.append(cost)\n",
    "      \n",
    "      if verbose==True:\n",
    "          print(np.array(costSet).T)\n",
    "        # plt.plot(range(1,len(costSet)+1), np.array(costSet), marker='o')\n",
    "        # plt.xlabel('Epochs')\n",
    "        # plt.ylabel('Cost')\n",
    "        # plt.show()\n",
    "         \n",
    "    def gradientDescent(self, X, y):\n",
    "      CFDerivative = self.Cost_Function_Derivative(X, y)\n",
    "      self.theta = self.theta - float(self.eta)*CFDerivative\n",
    "    \n",
    "    \n",
    "    def convertClassIndicator(self, y):\n",
    "      classes = np.unique(y).astype(int)\n",
    "      labels = np.zeros( (len(y), len(classes)) )\n",
    "      for i in classes:\n",
    "        pos = np.where(y==i)\n",
    "        idx = pos[0]\n",
    "        labels[idx, i] = 1\n",
    "\n",
    "      return labels\n",
    "   \n",
    "  \n",
    "    def Cost_Function_Derivative(self, X, y):\n",
    "      h = self.hypothesis(X)\n",
    "      \n",
    "      target = self.convertClassIndicator(y)\n",
    "      gradient = np.dot((h-target).T, X).T\n",
    "\n",
    "      J = (1/float(len(y))) * gradient\n",
    "      return gradient\n",
    "      \n",
    "      \n",
    "    def Cost_Function(self, X, y):\n",
    "      h = self.hypothesis(X)\n",
    "      \n",
    "      target = self.convertClassIndicator(y)\n",
    "      error = np.dot(target, np.log(h).T)\n",
    "      sumOfErrors = np.sum(error)\n",
    "\n",
    "      J = (-1/float(len(y))) * sumOfErrors\n",
    "      return J   \n",
    "      \n",
    "      \n",
    "    def hypothesis(self, X):\n",
    "      z = np.dot(X, self.theta)\n",
    "      h = Softmax(z)\n",
    "      return h\n",
    "    \n",
    "    \n",
    "    def predict(self, X):\n",
    "      return np.argmax(self.hypothesis(X), 1)\n",
    "        \n",
    "    \n",
    "    def plot_decision_regions(self, X, y, numDim, resolution=0.02):\n",
    "      # setup marker generator and color map\n",
    "      markers = ('s', 'x', 'o', '^', 'v')\n",
    "      colors = ('blue', 'red', 'lightgreen', 'gray', 'cyan')\n",
    "      cmap = ListedColormap(colors[:len(np.unique(y))])\n",
    "\n",
    "      # plot the decision surface\n",
    "      x1_min, x1_max = X[:,0].min()-1, X[:,0].max()+1\n",
    "      x2_min, x2_max = X[:,1].min()-1, X[:,1].max()+1\n",
    "\n",
    "      xx1, xx2 = np.meshgrid(np.arange(x1_min, x1_max, resolution), np.arange(x2_min, x2_max, resolution))\n",
    "      \n",
    "      \n",
    "      data = np.array([xx1.ravel(), xx2.ravel()]).T\n",
    "      if numDim>2:\n",
    "        data = np.hstack((data, np.ones((len(data[:,1]), 1))))\n",
    "        \n",
    "        \n",
    "      Z = self.predict(data)\n",
    "\n",
    "      Z = Z.reshape(xx1.shape)\n",
    "      plt.contourf(xx1, xx2, Z, alpha=0.4, cmap=cmap)\n",
    "      plt.xlim(xx1.min(), xx1.max())\n",
    "      plt.ylim(xx2.min(), xx2.max())\n",
    "\n",
    "      # plot class samples\n",
    "      labelSet = ['class 1', 'class 2', 'class 3']\n",
    "      for idx, c1 in enumerate(np.unique(y)):\n",
    "          classidx = np.where(y == c1)[0]\n",
    "          plt.scatter(x=X[classidx,0], y=X[classidx,1], alpha=0.8, c=cmap(idx), marker=markers[idx], label=labelSet[idx])\n",
    "          \n",
    "      plt.show()"
   ]
  },
  {
   "cell_type": "code",
   "execution_count": 327,
   "metadata": {
    "colab": {
     "autoexec": {
      "startup": false,
      "wait_interval": 0
     },
     "base_uri": "https://localhost:8080/",
     "height": 297
    },
    "colab_type": "code",
    "executionInfo": {
     "elapsed": 1564,
     "status": "ok",
     "timestamp": 1528183083309,
     "user": {
      "displayName": "Eunji Jun",
      "photoUrl": "//lh3.googleusercontent.com/-NAApMaOBXJo/AAAAAAAAAAI/AAAAAAAAEhM/_uKtqLTEd78/s50-c-k-no/photo.jpg",
      "userId": "101707959171128419571"
     },
     "user_tz": -540
    },
    "id": "3MBGoS-zRCcW",
    "outputId": "77e3cf46-5fab-4fed-f058-5758ed52016d"
   },
   "outputs": [
    {
     "data": {
      "image/png": "[encoded data removed]",
      "text/plain": [
       "<matplotlib.figure.Figure at 0x7fc50f4c1908>"
      ]
     },
     "metadata": {
      "tags": []
     },
     "output_type": "display_data"
    }
   ],
   "source": [
    "## Regression \n",
    "\n",
    "## sample inputs and add noise\n",
    "NUM_SAMPLES = 100\n",
    "X = np.random.uniform(0., 1., NUM_SAMPLES)\n",
    "X = np.sort(X, axis=0)\n",
    "noise = np.random.uniform(-0.1, 0.1, NUM_SAMPLES)\n",
    "y = np.sin(2*np.pi*X) + noise\n",
    "y = y.reshape(len(y),1)\n",
    "\n",
    "\n",
    "## compare the following 4 cases\n",
    "# case 1: k=2 & single standard deviation for all clusters\n",
    "rbfnet1 = RBF(k=2, lr=0.01, inferStds=False, isRegress=True)\n",
    "rbfnet1.fit(X, y)\n",
    "y_pred_1 = rbfnet1.predict(X)\n",
    "\n",
    "# case 2: k=2 & unique standard deviation per cluster\n",
    "rbfnet2 = RBF(k=2, lr=0.01, inferStds=True, isRegress=True)\n",
    "rbfnet2.fit(X, y)\n",
    "y_pred_2 = rbfnet2.predict(X)\n",
    "\n",
    "# case 3: k=4 & single standard deviation for all clusters\n",
    "rbfnet3 = RBF(k=4, lr=0.01, inferStds=False, isRegress=True)\n",
    "rbfnet3.fit(X, y)\n",
    "y_pred_3 = rbfnet3.predict(X)\n",
    "\n",
    "# case 4: k=4 & unique standard deviation per cluster\n",
    "rbfnet4 = RBF(k=4, lr=0.01, inferStds=True, isRegress=True)\n",
    "rbfnet4.fit(X, y)\n",
    "y_pred_4 = rbfnet4.predict(X)\n",
    "\n",
    "\n",
    "## plot the approximated function against the real function \n",
    "## to see how well the RBF net performed\n",
    "plt.subplot(2,2,1)\n",
    "plt.plot(X, y, '-o', label='true')\n",
    "plt.plot(X, y_pred_1, '-o', label='RBF-Net')\n",
    "plt.title('k=2 & single $\\sigma$')\n",
    "plt.legend()\n",
    "\n",
    "plt.subplot(2,2,2)\n",
    "plt.plot(X, y, '-o', label='true')\n",
    "plt.plot(X, y_pred_2, '-o', label='RBF-Net')\n",
    "plt.title('k=2 & unique $\\sigma$ per cluster')\n",
    "plt.legend()\n",
    "\n",
    "plt.subplot(2,2,3)\n",
    "plt.plot(X, y, '-o', label='true')\n",
    "plt.plot(X, y_pred_3, '-o', label='RBF-Net')\n",
    "plt.title('k=4 & single $\\sigma$')\n",
    "plt.legend()\n",
    "\n",
    "plt.subplot(2,2,4)\n",
    "plt.plot(X, y, '-o', label='true')\n",
    "plt.plot(X, y_pred_4, '-o', label='RBF-Net')\n",
    "plt.title('k=4 & unique $\\sigma$ per cluster')\n",
    "plt.legend()\n",
    "\n",
    "plt.tight_layout()\n",
    "plt.show()"
   ]
  },
  {
   "cell_type": "markdown",
   "metadata": {
    "colab_type": "text",
    "id": "tGxD0EUpRidX"
   },
   "source": [
    "**How about we use a single standard deviation for all of our bases instead of each one getting its own?**\n",
    "Our plot is much smoother! This is because the Gaussians that make up our reconstruction all have the same standard deviation.\n",
    "\n",
    "**What if we increase the number of bases to 4?**\n",
    "Our results aren’t too great! This is because our original function is shaped the way that it is two bumps. If we had a more complicated function, then we could use a larger number of bases. If we used a large number of bases, then we’ll start *overfitting*!\n",
    "\n",
    "There are other parameters we can change like the *learning rate*; we could use a more advanced optimization algorithm; we could try layering Gaussians; etc."
   ]
  },
  {
   "cell_type": "code",
   "execution_count": 0,
   "metadata": {
    "colab": {
     "autoexec": {
      "startup": false,
      "wait_interval": 0
     }
    },
    "colab_type": "code",
    "collapsed": true,
    "id": "VsZwLCQxw41i"
   },
   "outputs": [],
   "source": [
    "## Homework: Classification \n",
    "clsData1, clsData2, clsData3 = simulateData(100, 100)\n",
    "\n",
    "X = np.vstack((clsData1, clsData2, clsData3))\n",
    "y = np.concatenate((np.zeros((len(clsData1),1)), np.ones((len(clsData2),1)), 2*np.ones((len(clsData3),1))))\n",
    "\n",
    "rbfnet_cls = RBF(k=3, lr=0.01, inferStds=True, isRegress=False, numClass=3)"
   ]
  }
 ],
 "metadata": {
  "colab": {
   "collapsed_sections": [],
   "default_view": {},
   "name": "Gaussian_RBF.ipynb",
   "provenance": [],
   "version": "0.3.2",
   "views": {}
  },
  "kernelspec": {
   "display_name": "Python 3",
   "language": "python",
   "name": "python3"
  },
  "language_info": {
   "codemirror_mode": {
    "name": "ipython",
    "version": 3
   },
   "file_extension": ".py",
   "mimetype": "text/x-python",
   "name": "python",
   "nbconvert_exporter": "python",
   "pygments_lexer": "ipython3",
   "version": "3.6.1"
  }
 },
 "nbformat": 4,
 "nbformat_minor": 1
}
