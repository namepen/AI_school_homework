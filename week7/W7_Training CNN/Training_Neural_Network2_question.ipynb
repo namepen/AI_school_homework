{
 "cells": [
  {
   "cell_type": "markdown",
   "metadata": {
    "colab_type": "text",
    "id": "view-in-github"
   },
   "source": [
    "[View in Colaboratory](https://colab.research.google.com/github/cheonbok94/DeepLearningLecture/blob/master/Training_Neural_Network.ipynb)"
   ]
  },
  {
   "cell_type": "code",
   "execution_count": 0,
   "metadata": {
    "colab": {
     "autoexec": {
      "startup": false,
      "wait_interval": 0
     }
    },
    "colab_type": "code",
    "collapsed": true,
    "id": "a4TOMyEqB9St"
   },
   "outputs": [],
   "source": [
    "# http://pytorch.org/\n",
    "from os import path\n",
    "from wheel.pep425tags import get_abbr_impl, get_impl_ver, get_abi_tag\n",
    "platform = '{}{}-{}'.format(get_abbr_impl(), get_impl_ver(), get_abi_tag())\n",
    "\n",
    "accelerator = 'cu80' if path.exists('/opt/bin/nvidia-smi') else 'cpu'\n",
    "\n",
    "!pip install -q http://download.pytorch.org/whl/{accelerator}/torch-0.3.0.post4-{platform}-linux_x86_64.whl torchvision\n",
    "import torch"
   ]
  },
  {
   "cell_type": "code",
   "execution_count": 0,
   "metadata": {
    "colab": {
     "autoexec": {
      "startup": false,
      "wait_interval": 0
     }
    },
    "colab_type": "code",
    "collapsed": true,
    "id": "4oOxnJsphGb3"
   },
   "outputs": [],
   "source": [
    "import torch \n",
    "import numpy as np\n",
    "import torch.nn as nn \n",
    "import torch.nn.functional as F \n",
    "import matplotlib.pyplot as plt # 표 및 그림을 띄우는데 쓰이는 라이브러리입니다.\n",
    "import torchvision # 이미지 관련 처리, Pretrained Model 관련된 Package 입니다. \n",
    "import torchvision.datasets as vision_dsets\n",
    "import torchvision.transforms as T # 이미지 처리 (Vison) 관련된 transformation이 정의 되어 있습니다.\n",
    "import torch.optim as optim # pytorch 에서 정의한 수 많은 optimization function 들이 들어 있습니다.\n",
    "from torch.autograd import Variable \n",
    "from torch.utils import data"
   ]
  },
  {
   "cell_type": "markdown",
   "metadata": {
    "colab_type": "text",
    "id": "9ABEFSDDZ8ON"
   },
   "source": [
    "# MNIST Feed-forward Neural Network "
   ]
  },
  {
   "cell_type": "markdown",
   "metadata": {
    "colab_type": "text",
    "id": "qije6EXLt9sZ"
   },
   "source": [
    "## Data Loader 불러오기"
   ]
  },
  {
   "cell_type": "code",
   "execution_count": 0,
   "metadata": {
    "colab": {
     "autoexec": {
      "startup": false,
      "wait_interval": 0
     }
    },
    "colab_type": "code",
    "collapsed": true,
    "id": "Yo1YYiybty5e"
   },
   "outputs": [],
   "source": [
    "def MNIST_DATA(root='./',train =True,transforms=None ,download =True,batch_size = 64,num_worker = 1):\n",
    "\n",
    "\tprint (\"[+] Get the MNIST DATA\")\n",
    "\t\"\"\"\n",
    "  \ttorchvision.dataset 에는 우리가 많이 사용하는 데이터들을 쉽게 사용할 수 있도록 되어 있습니다. \n",
    "  \tMachine Learning 에서 Hello world 라고 불리는 Mnist 데이터를 사용해 보겠습니다. \n",
    "  \n",
    "  \n",
    "\t\"\"\"\n",
    "\tmnist_train = vision_dsets.MNIST(root = root,  #root 는 데이터의 저장 위치 입니다. \n",
    "\t\t\t\t\t\t\t\t\ttrain = True, #Train 은 이 데이터가 train 데이터인지 아닌지에 대한 정보입니다. \n",
    "\t\t\t\t\t\t\t\t\ttransform = T.ToTensor(), # 얻어낸 데이터를 pytorch가 계산 할 수 있는 Tensor 로 변환해 줍니다. \n",
    "\t\t\t\t\t\t\t\t\tdownload = True)  # 데이터를 다운로드 할지 여부를 물어봅니다. \n",
    "\tmnist_test = vision_dsets.MNIST(root = root,\n",
    "\t\t\t\t\t\t\t\t\ttrain = False,  # Test Data를 가져오기에 Train =False 를 줘야 합니다. \n",
    "\t\t\t\t\t\t\t\t\ttransform = T.ToTensor(),\n",
    "\t\t\t\t\t\t\t\t\tdownload = True)\n",
    "\t\"\"\"\n",
    "  \tData Loader 는 데이터와 batch size의 정보를 바탕으로 매 iteration 마다 주어진 데이터를 원하는 batch size 만큼 반환해주는 iterator입니다. \n",
    "  \t* Practical Guide : Batch size 는 어느정도가 좋나요? -- 클 수록 좋다는 소리가 있습니다. 하지만 gpu memeory 사이즈 한계에 의해 기본적으로 batch size 가 \n",
    "  \t커질 수록 학습에 사용되는 gpu memory 사이즈가 큽니다. (Activation map을 저장해야 하기 때문입니다.) 기본적으로 2의 배수로 저장하는 것이 좋습니다.(Bit size 관련) \n",
    "  \n",
    "\t\"\"\"\n",
    "\ttrainDataLoader = data.DataLoader(dataset = mnist_train,  # DataSet은 어떤 Data를 제공해 줄지에 대한 정보입니다. 여기서는 Training DATA를 제공합니다. \n",
    "\t\t\t\t\t\t\t\t\tbatch_size = batch_size, # batch size 정보를 꼭 줘야 합니다. 한 Batch 당 몇 개의 Data 를 제공할지에 대한 정보입니다. \n",
    "\t\t\t\t\t\t\t\t\tshuffle =True, # Training의 경우 Shuffling 을 해주는 것이 성능에 지대한 영향을 끼칩니다. 꼭 True 를 줘야 합니다. \n",
    "\t\t\t\t\t\t\t\t\tnum_workers = 1) # num worker의 경우 데이터를 로드하는데 worker를 얼마나 추가하겠는가에 대한 정보입니다. \n",
    "\n",
    "\ttestDataLoader = data.DataLoader(dataset = mnist_test, # Test Data Loader 이므로 Test Data를 인자로 전달해줍니다.\n",
    "\t\t\t\t\t\t\t\t\tbatch_size = batch_size, # 마찬가지로 Batch size 를 넣어줍니다. \n",
    "\t\t\t\t\t\t\t\t\tshuffle = False, # shuffling 이 굳이 필요하지 않으므로 false를 줍니다. \n",
    "\t\t\t\t\t\t\t\t\tnum_workers = 1) #\n",
    "\tprint (\"[+] Finished loading data & Preprocessing\")\n",
    "\treturn mnist_train,mnist_test,trainDataLoader,testDataLoader"
   ]
  },
  {
   "cell_type": "code",
   "execution_count": 0,
   "metadata": {
    "colab": {
     "autoexec": {
      "startup": false,
      "wait_interval": 0
     }
    },
    "colab_type": "code",
    "collapsed": true,
    "id": "_P2oJog_xnFJ"
   },
   "outputs": [],
   "source": [
    "trainDset,testDset,trainDataLoader,testDataLoader= MNIST_DATA(batch_size = 64)  # Data Loader 를 불러 옵니다. "
   ]
  },
  {
   "cell_type": "code",
   "execution_count": 0,
   "metadata": {
    "colab": {
     "autoexec": {
      "startup": false,
      "wait_interval": 0
     }
    },
    "colab_type": "code",
    "collapsed": true,
    "id": "DDZ6NzkIuATV"
   },
   "outputs": [],
   "source": [
    "# 받아놓은 데이터를 구경해봅시다.\n",
    "\n",
    "def show_images(image, n_row):\n",
    "    for _ in range(n_row):  \n",
    "      index=np.random.choice(64, 6)\n",
    "      images =image.numpy()[index]    \n",
    "      plt.figure(figsize=(15,90))    \n",
    "      for a in range(161, 167):    \n",
    "        plt.subplot(a)\n",
    "        plt.imshow(images[a-161])\n",
    "        plt.xticks([])\n",
    "        plt.yticks([])    \n",
    "      plt.show()  \n",
    "\n",
    "for i, (image,_) in enumerate(trainDataLoader): \n",
    "    print(image.size())\n",
    "    show_images(image.squeeze(), 3)\n",
    "    break"
   ]
  },
  {
   "cell_type": "markdown",
   "metadata": {
    "colab_type": "text",
    "id": "vtWA2FTIxskN"
   },
   "source": [
    "## Train Function "
   ]
  },
  {
   "cell_type": "code",
   "execution_count": 0,
   "metadata": {
    "colab": {
     "autoexec": {
      "startup": false,
      "wait_interval": 0
     }
    },
    "colab_type": "code",
    "collapsed": true,
    "id": "PA8glX3ox0Hh"
   },
   "outputs": [],
   "source": [
    "def train_network(net,optimizer,trainloader, epochs=2):\n",
    "  for epoch in range(epochs):  # loop over the dataset multiple times\n",
    "\n",
    "      running_loss = 0.0 # running loss를 저장하기 위한 변수입니다. \n",
    "      for i, data in enumerate(trainloader, 0): # 한 Epoch 만큼 돕니다. 매 iteration 마다 정해진 Batch size 만큼 데이터를 뱉습니다. \n",
    "          # get the inputs\n",
    "          inputs, labels = data # DataLoader iterator의 반환 값은 input_data 와 labels의 튜플 형식입니다. \n",
    "          inputs = ??(inputs).cuda() # Pytorch에서 nn.Module 에 넣어 Backprop을 계산 하기 위해서는 Variable로 감싸야 합니다.\n",
    "          labels = ??(labels).cuda()\n",
    "          # zero the parameter gradients\n",
    "          optimizer.zero_grad()    #  현재 기존의 backprop을 계산하기 위해서 저장했던 activation buffer 를 비웁니다. Q) 이걸 안 한다면?\n",
    "\n",
    "          # forward + backward + optimize\n",
    "          outputs = ??(inputs) # input 을 넣은 위 network 로 부터 output 을 얻어냅니다. \n",
    "          loss = ??(outputs, labels) # loss fucntion에 주어진 target과 output 의 score를 계산하여 반환합니다. \n",
    "          loss.backward() # * Scalar Loss value를 Backward() 해주게 되면 주어진 loss값을 바탕으로 backpropagation이 진행됩니다. \n",
    "          optimizer.step() # 계산된 Backprop 을 바탕으로 optimizer가 gradient descenting 을 수행합니다. \n",
    "\n",
    "          # print statistics\n",
    "          running_loss += loss.data[0]\n",
    "          if (i+1) % 100 == 0:    # print every 2000 mini-batches\n",
    "              print('[epoch %d, iteration %5d] loss: %.3f' %\n",
    "                    (epoch + 1, i + 1, running_loss / 100))\n",
    "              running_loss = 0.0\n",
    "\n",
    "  print('Finished Training')"
   ]
  },
  {
   "cell_type": "markdown",
   "metadata": {
    "colab_type": "text",
    "id": "zGMkGKQiy8_r"
   },
   "source": [
    "## Test Function"
   ]
  },
  {
   "cell_type": "code",
   "execution_count": 0,
   "metadata": {
    "colab": {
     "autoexec": {
      "startup": false,
      "wait_interval": 0
     }
    },
    "colab_type": "code",
    "collapsed": true,
    "id": "X0Xn-H2zbc22"
   },
   "outputs": [],
   "source": [
    "def test(model,test_loader):\n",
    "  model.eval() # Eval Mode 왜 해야 할까요?  --> nn.Dropout BatchNorm 등의 Regularization 들이 test 모드로 들어가게 되기 때문입니다. \n",
    "  test_loss = 0\n",
    "  correct = 0\n",
    "  for data, target in test_loader:\n",
    "    data, target = Variable(data).cuda(), Variable(target).cuda()  # 기존의 train function의 data 처리부분과 같습니다. \n",
    "    output = model(data) \n",
    "    pred = output.max(1, keepdim=True)[1] # get the index of the max \n",
    "    correct += pred.eq(target.view_as(pred)).sum().data[0] # 정답 데이터의 갯수를 반환합니다. \n",
    "\n",
    "  test_loss /= len(test_loader.dataset)\n",
    "  print('\\nTest set:  Accuracy: {}/{} ({:.0f}%)\\n'.format(\n",
    "      correct, len(test_loader.dataset),\n",
    "      100. * correct / len(test_loader.dataset)))"
   ]
  },
  {
   "cell_type": "markdown",
   "metadata": {
    "colab_type": "text",
    "id": "mdM-bsXD152f"
   },
   "source": [
    "## Neural Network  + Activation Function"
   ]
  },
  {
   "cell_type": "markdown",
   "metadata": {
    "colab_type": "text",
    "id": "fmv3W0Ln29M1"
   },
   "source": [
    "### 간단한 Neural Network 를 만들어 봅시다. (linear layers)\n",
    "특징 : 2개의 Layer를 가지는 Neural Network \n",
    "<구성>  \n",
    "Layer 1 - input:28*28 , output : 30 + Activation Fucntion -  ReLU\n",
    "\n",
    "Layer 2 - input: 30 output:10\n",
    "\n",
    "Cross Entropy Loss  + ADAM optimizer "
   ]
  },
  {
   "cell_type": "code",
   "execution_count": 0,
   "metadata": {
    "colab": {
     "autoexec": {
      "startup": false,
      "wait_interval": 0
     }
    },
    "colab_type": "code",
    "collapsed": true,
    "id": "MTJOsz9U2FnP"
   },
   "outputs": [],
   "source": [
    "class MNIST_Net(nn.Module):\n",
    "    def __init__(self):\n",
    "        super(MNIST_Net, self).__init__() # nn.Module 생성자 호출 Q) 왜 필요할까요?\n",
    "        # an affine operation: y = Wx + b\n",
    "        layers = [] \n",
    "        layers.append(nn.Linear(28*28,30))\n",
    "        layers.append(nn.ReLU())\n",
    "        layers.append(nn.Linear(30, 10))\n",
    "        self.main = nn.Sequential(*layers)\n",
    "    def forward(self, x):\n",
    "        x = x.??(-1,28*28) # x.view함수는 주어진 인자의 크기로 해당 데이터의 크기를 반환합니다. 즉, (Batch_size,28,28) --> (Batch_size,28*28)로 변환합니다.\n",
    "        x = ??(x) # 28*28 -> 30 -> Activation function -> 10 으로 10개의 Class에 대한 logit 값을 호출합니다. \n",
    "        return x"
   ]
  },
  {
   "cell_type": "markdown",
   "metadata": {
    "colab_type": "text",
    "id": "Bvk4TTL83pcc"
   },
   "source": [
    "#### Optimizer \n",
    "Optimizer 의 경우 기본적으로 torch.optim 안에 존재합니다. 다양한 optimziers 가 정의되어 있습니다. \n",
    "\n",
    "기본적으로 다음과 같은 구성을 따릅니다. optim.{Optimzier 이름}({Network Parameters},lr ={learning rate })\n",
    "\n",
    "오늘은  Adam optimizer를 주로 사용해보겠습니다."
   ]
  },
  {
   "cell_type": "code",
   "execution_count": 0,
   "metadata": {
    "colab": {
     "autoexec": {
      "startup": false,
      "wait_interval": 0
     }
    },
    "colab_type": "code",
    "collapsed": true,
    "id": "wd5tmyMnXcs0"
   },
   "outputs": [],
   "source": [
    "mnist_net = MNIST_Net().cuda() # 생성한 뉴럴넷 Instance를 생성하고 빠른 학습을 위해 cuda 에 올립니다. \n",
    "criterion = nn.CrossEntropyLoss() # Loss Function을 정의 합니다. 여기서는 cross entrophy loss 를 사용합니다. \n",
    "optimizer = optim.Adam(mnist_net.parameters(), lr=0.001) # optimizer는 이와 같이 training 할 Parameter와 learning rate를 인자로 줍니다. "
   ]
  },
  {
   "cell_type": "code",
   "execution_count": 0,
   "metadata": {
    "colab": {
     "autoexec": {
      "startup": false,
      "wait_interval": 0
     }
    },
    "colab_type": "code",
    "collapsed": true,
    "id": "zALyUje-aehn"
   },
   "outputs": [],
   "source": [
    "train_network(mnist_net,optimizer,trainDataLoader) # 3 Epoch 정도 학습을 진행해봅니다. "
   ]
  },
  {
   "cell_type": "code",
   "execution_count": 0,
   "metadata": {
    "colab": {
     "autoexec": {
      "startup": false,
      "wait_interval": 0
     }
    },
    "colab_type": "code",
    "collapsed": true,
    "id": "LfQrMIX2a3nn"
   },
   "outputs": [],
   "source": [
    "test(mnist_net,testDataLoader) # Test 정확도를 출력해 봅니다. "
   ]
  },
  {
   "cell_type": "markdown",
   "metadata": {
    "colab_type": "text",
    "id": "DUK2GbHZ4x-K"
   },
   "source": [
    "### 간단한 Neural Network 를 만들어 봅시다. (CNN layers(1) Introduction)\n",
    "특징 : 2개의 Layer를 가지는 Neural Network \n",
    "<구성>  \n",
    "Layer 1 - input:1x28x28 , output : 64x28x28 + Activation Fucntion - relu\n",
    "\n",
    "Layer 2 - input: 64x28x28 output:1x28x28\n",
    "\n",
    "Layer 3 - input: 1x28x28=784 output:10\n",
    "\n",
    "Cross Entropy Loss  + ADAM optimizer "
   ]
  },
  {
   "cell_type": "code",
   "execution_count": 0,
   "metadata": {
    "colab": {
     "autoexec": {
      "startup": false,
      "wait_interval": 0
     }
    },
    "colab_type": "code",
    "collapsed": true,
    "id": "FZUmc76ZdOap"
   },
   "outputs": [],
   "source": [
    "class MNIST_Net(nn.Module):\n",
    "    def __init__(self):\n",
    "        super(MNIST_Net, self).__init__() # nn.Module 생성자 호출 Q) 왜 필요할까요?\n",
    "        # an affine operation: y = Wx + b\n",
    "        layers = []\n",
    "        layers.append(nn.conv2d(1,64,kernel_size=3,stride=1,padding=1)) \n",
    "        layers.append(nn.ReLU()) \n",
    "        layers.append(??(64,1,kernel_size=?,stride=?,stride=?)) \n",
    "        layers.append(nn.ReLU()) \n",
    "        self.main = nn.Sequential(*layers)\n",
    "        \n",
    "        self.fc = nn.Linear(28*28, 10)\n",
    "\n",
    "    def forward(self, x):\n",
    "         # x.view함수는 주어진 인자의 크기로 해당 데이터의 크기를 반환합니다. 즉, (Batch_size,1,28,28) --> (Batch_size,28*28)로 변환합니다.\n",
    "        x = self.main(x)\n",
    "        x = x.squeeze().view(-1, 28*28)\n",
    "        x = self.fc(x)  # 10 으로 10개의 Class에 대한 logit 값을 호출합니다. \n",
    "        return x"
   ]
  },
  {
   "cell_type": "code",
   "execution_count": 0,
   "metadata": {
    "colab": {
     "autoexec": {
      "startup": false,
      "wait_interval": 0
     }
    },
    "colab_type": "code",
    "collapsed": true,
    "id": "UBXketXnhA_E"
   },
   "outputs": [],
   "source": [
    "mnist_net = MNIST_Net().cuda() # 생성한 뉴럴넷 Instance를 생성하고 빠른 학습을 위해 cuda 에 올립니다. \n",
    "criterion = nn.CrossEntropyLoss() # Loss Function을 정의 합니다. 여기서는 cross entrophy loss 를 사용합니다. \n",
    "optimizer = optim.Adam(mnist_net.parameters(), lr=0.001) # optimizer는 이와 같이 training 할 Parameter와 learning rate를 인자로 줍니다. "
   ]
  },
  {
   "cell_type": "code",
   "execution_count": 0,
   "metadata": {
    "colab": {
     "autoexec": {
      "startup": false,
      "wait_interval": 0
     }
    },
    "colab_type": "code",
    "collapsed": true,
    "id": "3AsJISDr6H9_"
   },
   "outputs": [],
   "source": [
    "# 네트워크의 구조를 알아봅시다.\n",
    "print(mnist_net)"
   ]
  },
  {
   "cell_type": "code",
   "execution_count": 0,
   "metadata": {
    "colab": {
     "autoexec": {
      "startup": false,
      "wait_interval": 0
     }
    },
    "colab_type": "code",
    "collapsed": true,
    "id": "Qb3e4wqphDmZ"
   },
   "outputs": [],
   "source": [
    "train_network(mnist_net,optimizer,trainDataLoader)"
   ]
  },
  {
   "cell_type": "code",
   "execution_count": 0,
   "metadata": {
    "colab": {
     "autoexec": {
      "startup": false,
      "wait_interval": 0
     }
    },
    "colab_type": "code",
    "collapsed": true,
    "id": "ZJ-WCpKrhEzR"
   },
   "outputs": [],
   "source": [
    "test(mnist_net,testDataLoader)"
   ]
  },
  {
   "cell_type": "markdown",
   "metadata": {
    "colab_type": "text",
    "id": "IV_aGry05TIV"
   },
   "source": [
    "### 간단한 Neural Network 를 만들어 봅시다. (CNN layers(2) BatchNorm)\n",
    "특징 : 2개의 Layer를 가지는 Neural Network \n",
    "<구성>  \n",
    "Layer 1 - input:1x28x28 , output : 64x28x28 + Activation Fucntion - relu\n",
    "\n",
    "Layer 2 - input: 64x28x28 output:1x28x28\n",
    "\n",
    "Layer 3 - input: 1x28x28=784 output:10\n",
    "\n",
    "Cross Entropy Loss  + ADAM optimizer "
   ]
  },
  {
   "cell_type": "code",
   "execution_count": 0,
   "metadata": {
    "colab": {
     "autoexec": {
      "startup": false,
      "wait_interval": 0
     }
    },
    "colab_type": "code",
    "collapsed": true,
    "id": "PvAhsyP-hbwx"
   },
   "outputs": [],
   "source": [
    "class MNIST_Net(nn.Module):\n",
    "    def __init__(self):\n",
    "        super(MNIST_Net, self).__init__() # nn.Module 생성자 호출 Q) 왜 필요할까요?\n",
    "        # an affine operation: y = Wx + b\n",
    "        layers = []\n",
    "        layers.append(nn.Conv2d(1,64,3,1,1))\n",
    "        layers.append(??(64)) \n",
    "        layers.append(nn.ReLU())\n",
    "        layers.append(nn.Conv2d(64,1,3,1,1))\n",
    "        layers.append(??(1)) \n",
    "        layers.append(nn.ReLU())\n",
    "        self.main = nn.Sequential(*layers)\n",
    "        self.fc = nn.Linear(28*28, 10)\n",
    "\n",
    "    def forward(self, x):\n",
    "         # x.view함수는 주어진 인자의 크기로 해당 데이터의 크기를 반환합니다. 즉, (Batch_size,1,28,28) --> (Batch_size,28*28)로 변환합니다.\n",
    "        x = self.main(x)\n",
    "        x = x.squeeze().view(-1, 28*28)\n",
    "        x = self.fc(x)  # 30 -> 10 으로 10개의 Class에 대한 logit 값을 호출합니다. \n",
    "        return x"
   ]
  },
  {
   "cell_type": "code",
   "execution_count": 0,
   "metadata": {
    "colab": {
     "autoexec": {
      "startup": false,
      "wait_interval": 0
     }
    },
    "colab_type": "code",
    "collapsed": true,
    "id": "mZVpqqCbhiNd"
   },
   "outputs": [],
   "source": [
    "mnist_net = MNIST_Net().cuda() # 생성한 뉴럴넷 Instance를 생성하고 빠른 학습을 위해 cuda 에 올립니다. \n",
    "criterion = nn.CrossEntropyLoss() # Loss Function을 정의 합니다. 여기서는 cross entrophy loss 를 사용합니다. \n",
    "optimizer = optim.Adam(mnist_net.parameters(), lr=0.001) # optimizer는 이와 같이 training 할 Parameter와 learning rate를 인자로 줍니다. "
   ]
  },
  {
   "cell_type": "code",
   "execution_count": 0,
   "metadata": {
    "colab": {
     "autoexec": {
      "startup": false,
      "wait_interval": 0
     }
    },
    "colab_type": "code",
    "collapsed": true,
    "id": "fKGyPdSIhmqx"
   },
   "outputs": [],
   "source": [
    "train_network(mnist_net,optimizer,trainDataLoader)"
   ]
  },
  {
   "cell_type": "code",
   "execution_count": 0,
   "metadata": {
    "colab": {
     "autoexec": {
      "startup": false,
      "wait_interval": 0
     }
    },
    "colab_type": "code",
    "collapsed": true,
    "id": "1_tEaqWlhnUQ"
   },
   "outputs": [],
   "source": [
    "test(mnist_net,testDataLoader)"
   ]
  },
  {
   "cell_type": "markdown",
   "metadata": {
    "colab_type": "text",
    "id": "uGIxpCuo85Ec"
   },
   "source": [
    " - 무조건 Deep하다고 좋은 것은 아니다. 가장 잘 작동하는 네트워크를 찾는 것이 관건!\n",
    " - 잘 작동한다고 많이 쓰이는 VGG-net을 살펴봄에 앞서 또 한가지의 데이터셋을 알아보도록 하겠습니다."
   ]
  },
  {
   "cell_type": "markdown",
   "metadata": {
    "colab_type": "text",
    "id": "UezeHP_Veo-L"
   },
   "source": [
    "# CIFAR-10 Feed-forward Neural Network \n",
    "\n",
    "재사용 코드: train_network, test, criterion (cross entropy), optimizer (ADAM)\n",
    "\n",
    "수정하는 코드:  data_loader (mnist -> cifar10), 네트워크 (VGG-net  구현) \n",
    "\n",
    "달라지는 점: 흑백 이미지가 아닌 컬러이미지. 인풋= ( batch_size x 3 x 32 x 32)\n",
    "\n",
    "목표: 3 x 32 x 32 의 사진에 대하여 10가지의 클래스 중 하나를 맞추기\n",
    "\n",
    "![alt text](http://solarisailab.com/wp-content/uploads/2017/06/cifar-10_labels.png)\n",
    "\n",
    "\n",
    "Training image 개수: 50,000장\n",
    "\n",
    "\n",
    "Test image 개수: 10,000장"
   ]
  },
  {
   "cell_type": "code",
   "execution_count": 0,
   "metadata": {
    "colab": {
     "autoexec": {
      "startup": false,
      "wait_interval": 0
     }
    },
    "colab_type": "code",
    "collapsed": true,
    "id": "UHE8IzyieqL0"
   },
   "outputs": [],
   "source": [
    "def CIFAR_DATA(root='./',train =True,transforms=None ,download =True,batch_size = 64,num_worker = 1):\n",
    "  print (\"[+] Get the CIFAR DATA\")\n",
    "  \"\"\"\n",
    "    이번에는 조금 더 실제 사진과 같이 생긴 CIFAR-10 데이터를 사용해보도록 하겠습니다.\n",
    "  \"\"\"\n",
    "  cifar_train = vision_dsets.??(root = root,  #root 는 데이터의 저장 위치 입니다. \n",
    "                  train = True, #Train 은 이 데이터가 train 데이터인지 아닌지에 대한 정보입니다. \n",
    "                  transform = T.ToTensor(), # 얻어낸 데이터를 pytorch가 계산 할 수 있는 Tensor 로 변환해 줍니다. \n",
    "                  download = True)  # 데이터를 다운로드 할지 여부를 물어봅니다. \n",
    "  cifar_test = vision_dsets.??(root = root,\n",
    "                  train = False,  # Test Data를 가져오기에 Train =False 를 줘야 합니다. \n",
    "                  transform = T.ToTensor(),\n",
    "                    download = True)\n",
    " \n",
    "  trainDataLoader = data.DataLoader(dataset = ??,  # Dataset은 어떤 Data를 제공해 줄지에 대한 정보입니다. 여기서는 Training DATA를 제공합니다. \n",
    "                  batch_size = batch_size, # batch size 정보를 꼭 줘야 합니다. 한 Batch 당 몇 개의 Data 를 제공할지에 대한 정보입니다. \n",
    "                  shuffle =True, # Training의 경우 Shuffling 을 해주는 것이 성능에 지대한 영향을 끼칩니다. 꼭 True 를 줘야 합니다. \n",
    "                  num_workers = 1) # num worker의 경우 데이터를 로드하는데 worker를 얼마나 추가하겠는가에 대한 정보입니다. \n",
    "\n",
    "  testDataLoader = data.DataLoader(dataset = ??, # Test Data Loader 이므로 Test Data를 인자로 전달해줍니다.\n",
    "                  batch_size = batch_size, # 마찬가지로 Batch size 를 넣어줍니다. \n",
    "                  shuffle = False, # shuffling 이 굳이 필요하지 않으므로 false를 줍니다. \n",
    "                  num_workers = 1) #\n",
    "  print (\"[+] Finished loading data & Preprocessing\")\n",
    "  return cifar_train,cifar_test,trainDataLoader,testDataLoader"
   ]
  },
  {
   "cell_type": "code",
   "execution_count": 0,
   "metadata": {
    "colab": {
     "autoexec": {
      "startup": false,
      "wait_interval": 0
     }
    },
    "colab_type": "code",
    "collapsed": true,
    "id": "4oC1REEQf32S"
   },
   "outputs": [],
   "source": [
    "trainDset,testDset,trainDataLoader,testDataLoader= CIFAR_DATA(batch_size = 64)  # Data Loader 를 불러 옵니다. "
   ]
  },
  {
   "cell_type": "code",
   "execution_count": 0,
   "metadata": {
    "colab": {
     "autoexec": {
      "startup": false,
      "wait_interval": 0
     },
     "base_uri": "https://localhost:8080/",
     "height": 195
    },
    "colab_type": "code",
    "executionInfo": {
     "elapsed": 1469,
     "status": "ok",
     "timestamp": 1530601876207,
     "user": {
      "displayName": "박기태",
      "photoUrl": "https://lh3.googleusercontent.com/a/default-user=s128",
      "userId": "106295349720515296487"
     },
     "user_tz": -540
    },
    "id": "9qzSnhgVksN6",
    "outputId": "4d7293ea-82be-4ef6-e48b-d45e8087f60c"
   },
   "outputs": [
    {
     "data": {
      "image/png": "[encoded data removed]",
      "text/plain": [
       "<matplotlib.figure.Figure at 0x7fc3008699e8>"
      ]
     },
     "metadata": {
      "tags": []
     },
     "output_type": "display_data"
    }
   ],
   "source": [
    "# 이 코드는 cifar10 샘플 이미지를 프린트해보기 위한 코드로 실행만 해주시면 됩니다.\n",
    "# 실행 시 랜덤으로 트레이닝 때 사용되는 이미지 중 9장이 프린트됩니다.\n",
    "\n",
    "def show_cifar10(train_loader):\n",
    "  for images, _ in train_loader:\n",
    "    plt.figure(figsize=(3,3))\n",
    "    images_to_show = images.numpy().transpose((0,2,3,1))\n",
    "\n",
    "    for a in range(331, 340):    \n",
    "      plt.subplot(a)\n",
    "      plt.imshow(images_to_show[a-331])\n",
    "      plt.xticks([])\n",
    "      plt.yticks([])    \n",
    "    plt.show()   \n",
    "    break\n",
    "\n",
    "show_cifar10(trainDataLoader)"
   ]
  },
  {
   "cell_type": "markdown",
   "metadata": {
    "colab_type": "text",
    "id": "SEgs1IuKieUC"
   },
   "source": [
    "### 간단한 Neural Network 를 만들어 봅시다. (CNN layers(3) Cifar-10)\n",
    "\n",
    "특징 : 2개의 Layer를 가지는 Neural Network \n",
    "\n",
    "<구성>  \n",
    "\n",
    "Layer 1 - input:3x32x32 , output : 64x32x32 + Activation Fucntion (ReLU)\n",
    "\n",
    "Layer 2 - input: 64x28x28 output:1x32x32\n",
    "\n",
    "Layer 3 - input: 1x32x32=1024 output:10\n",
    "\n",
    "Cross Entropy Loss  + ADAM optimizer "
   ]
  },
  {
   "cell_type": "code",
   "execution_count": 0,
   "metadata": {
    "colab": {
     "autoexec": {
      "startup": false,
      "wait_interval": 0
     }
    },
    "colab_type": "code",
    "collapsed": true,
    "id": "EmyWlSDPgINt"
   },
   "outputs": [],
   "source": [
    "class CIFAR_Net(nn.Module):\n",
    "    def __init__(self):\n",
    "        super(CIFAR_Net, self).__init__() \n",
    "        layers = []\n",
    "        layers.append(nn.Conv2d(??,64,3,1,1))\n",
    "        layers.append(nn.BatchNorm2d(64)) \n",
    "        layers.append(nn.ReLU())\n",
    "        layers.append(nn.Conv2d(64,1,3,1,1))\n",
    "        layers.append(nn.BatchNorm2d(1)) \n",
    "        layers.append(nn.ReLU())\n",
    "        self.main = nn.Sequential(*layers)\n",
    "        self.fc = nn.Linear(32*32, 10)\n",
    "\n",
    "    def forward(self, x):\n",
    "         # x.view함수는 주어진 인자의 크기로 해당 데이터의 크기를 반환합니다. 즉, (Batch_size,1,32,32) --> (Batch_size,32*32)로 변환합니다.\n",
    "        x = self.main(x)\n",
    "        x = x.squeeze().view(-1, 32*32)\n",
    "        x = self.fc(x) \n",
    "        return x"
   ]
  },
  {
   "cell_type": "code",
   "execution_count": 0,
   "metadata": {
    "colab": {
     "autoexec": {
      "startup": false,
      "wait_interval": 0
     }
    },
    "colab_type": "code",
    "collapsed": true,
    "id": "5jhIxqNHi4u5"
   },
   "outputs": [],
   "source": [
    "cifar_net = CIFAR_Net().cuda() # 생성한 뉴럴넷 Instance를 생성하고 빠른 학습을 위해 cuda 에 올립니다. \n",
    "criterion = nn.CrossEntropyLoss() # Loss Function을 정의 합니다. 여기서는 cross entrophy loss 를 사용합니다. \n",
    "optimizer = optim.Adam(cifar_net.parameters(), lr=0.001) # optimizer는 이와 같이 training 할 Parameter와 learning rate를 인자로 줍니다. "
   ]
  },
  {
   "cell_type": "code",
   "execution_count": 0,
   "metadata": {
    "colab": {
     "autoexec": {
      "startup": false,
      "wait_interval": 0
     }
    },
    "colab_type": "code",
    "collapsed": true,
    "id": "A4uEB5toi7n5"
   },
   "outputs": [],
   "source": [
    "train_network(cifar_net,optimizer,trainDataLoader)"
   ]
  },
  {
   "cell_type": "code",
   "execution_count": 0,
   "metadata": {
    "colab": {
     "autoexec": {
      "startup": false,
      "wait_interval": 0
     }
    },
    "colab_type": "code",
    "collapsed": true,
    "id": "ncL2RKEKjGwa"
   },
   "outputs": [],
   "source": [
    "test(cifar_net,testDataLoader)"
   ]
  },
  {
   "cell_type": "markdown",
   "metadata": {
    "colab_type": "text",
    "id": "sDxRzot5lwm4"
   },
   "source": [
    "## Pytorch 라이브러리에 내장된 VGG-network을 불러와 트레이닝 합시다. (Transfer Learning)\n",
    "\n",
    "특징 : 19개의 레이어를 지닌 VGG19_bn (batch normalization이 있는 버전)\n",
    "\n",
    "Cross Entropy Loss  + ADAM optimizer \n",
    "\n",
    "![alt text](https://lihan.me/assets/images/vgg-hero-cover.jpg)"
   ]
  },
  {
   "cell_type": "markdown",
   "metadata": {
    "colab_type": "text",
    "id": "eR2ecNQi5DT_"
   },
   "source": [
    "### Version 1:  랜덤 initialized된 네트워크 트레이닝하기\n"
   ]
  },
  {
   "cell_type": "code",
   "execution_count": 0,
   "metadata": {
    "colab": {
     "autoexec": {
      "startup": false,
      "wait_interval": 0
     }
    },
    "colab_type": "code",
    "collapsed": true,
    "id": "SNEjdG9C5Yxx"
   },
   "outputs": [],
   "source": [
    "# pytorch에 들어 있는 모델을 불러오는 코드입니다.\n",
    "import torchvision.models as models\n",
    "skeleton_vgg=models.vgg19_bn(pretrained=False) # 여기서 pretrained=True를 걸어주시면 이미지넷 백만장에 대하여 미리 학습된 모델을 불러올 수 있습니다."
   ]
  },
  {
   "cell_type": "code",
   "execution_count": 0,
   "metadata": {
    "colab": {
     "autoexec": {
      "startup": false,
      "wait_interval": 0
     }
    },
    "colab_type": "code",
    "collapsed": true,
    "id": "k25dN59fEBbr"
   },
   "outputs": [],
   "source": [
    "# 불러들여온 모델이 어떻게 생겼는지 한번 살펴볼까요?\n",
    "print(skeleton_vgg)"
   ]
  },
  {
   "cell_type": "code",
   "execution_count": 0,
   "metadata": {
    "colab": {
     "autoexec": {
      "startup": false,
      "wait_interval": 0
     }
    },
    "colab_type": "code",
    "collapsed": true,
    "id": "Y-GNSUGz5eFK"
   },
   "outputs": [],
   "source": [
    "# 아래의 클래스를 통하여 저희는 vgg-19의 랜덤으로 initialized된 네트워크 뼈대를 얻어낼 수 있습니다.\n",
    "class CIFAR_Net(nn.Module):\n",
    "    def __init__(self, skeleton_vgg):\n",
    "        super(CIFAR_Net, self).__init__() \n",
    "        layers = []\n",
    "        layers = list(skeleton_vgg.features.children()) # 미리 학습된 VGGNet의 설정된 변수들만 가져오되,pretrained=False이므로 랜덤으로 initialize되어 있습니다.\n",
    "        self.main = nn.Sequential(*layers)\n",
    "        self.fc = nn.Sequential(\n",
    "            nn.Linear(512, 512),\n",
    "            nn.ReLU(),\n",
    "            nn.Linear(512, 128),\n",
    "            nn.ReLU(),\n",
    "            nn.Linear(128, 10),\n",
    "        )\n",
    "\n",
    "    def forward(self, x):\n",
    "        x = self.main(x)\n",
    "        x = x.squeeze()\n",
    "        x = self.fc(x) \n",
    "        return x"
   ]
  },
  {
   "cell_type": "code",
   "execution_count": 0,
   "metadata": {
    "colab": {
     "autoexec": {
      "startup": false,
      "wait_interval": 0
     }
    },
    "colab_type": "code",
    "collapsed": true,
    "id": "4CB8MhpN5gx8"
   },
   "outputs": [],
   "source": [
    "cifar_net = CIFAR_Net(skeleton_vgg).cuda() # 생성한 뉴럴넷 Instance를 생성하고 빠른 학습을 위해 cuda 에 올립니다. \n",
    "criterion = nn.CrossEntropyLoss() # Loss Function을 정의 합니다. 여기서는 cross entrophy loss 를 사용합니다. \n",
    "optimizer = optim.Adam(cifar_net.parameters(), lr=0.001) # optimizer는 이와 같이 training 할 Parameter와 learning rate를 인자로 줍니다. "
   ]
  },
  {
   "cell_type": "code",
   "execution_count": 0,
   "metadata": {
    "colab": {
     "autoexec": {
      "startup": false,
      "wait_interval": 0
     }
    },
    "colab_type": "code",
    "collapsed": true,
    "id": "V-waW_nt5jnm"
   },
   "outputs": [],
   "source": [
    "train_network(cifar_net,optimizer,trainDataLoader, epochs=1)"
   ]
  },
  {
   "cell_type": "code",
   "execution_count": 0,
   "metadata": {
    "colab": {
     "autoexec": {
      "startup": false,
      "wait_interval": 0
     }
    },
    "colab_type": "code",
    "collapsed": true,
    "id": "QdfnWEJ25ltR"
   },
   "outputs": [],
   "source": [
    "test(cifar_net,testDataLoader)"
   ]
  },
  {
   "cell_type": "markdown",
   "metadata": {
    "colab_type": "text",
    "id": "CClNvzjm5OCW"
   },
   "source": [
    "###Version 2: Pre-trained된 네트워크 추가 트레이닝하기 (fine-tuning)"
   ]
  },
  {
   "cell_type": "code",
   "execution_count": 0,
   "metadata": {
    "colab": {
     "autoexec": {
      "startup": false,
      "wait_interval": 0
     }
    },
    "colab_type": "code",
    "collapsed": true,
    "id": "IsGedMnUmizX"
   },
   "outputs": [],
   "source": [
    "# pytorch에 들어 있는 모델을 불러오는 코드입니다.\n",
    "import torchvision.models as models\n",
    "pre_vgg=models.vgg19_bn(pretrained=True) # 여기서 pretrained=True를 걸어주시면 이미지넷 백만장에 대하여 미리 학습된 모델을 불러올 수 있습니다."
   ]
  },
  {
   "cell_type": "code",
   "execution_count": 0,
   "metadata": {
    "colab": {
     "autoexec": {
      "startup": false,
      "wait_interval": 0
     }
    },
    "colab_type": "code",
    "collapsed": true,
    "id": "Hi9XHGJMj4lR"
   },
   "outputs": [],
   "source": [
    "# 아래 코드는 이제 vgg-19을 이미지넷에 트레이닝한 학습 모델까지 일부 받아들여오게 됩니다.\n",
    "class CIFAR_Net(nn.Module):\n",
    "    def __init__(self, pre_vgg):\n",
    "        super(CIFAR_Net, self).__init__() \n",
    "        layers = []\n",
    "        layers = list(pre_vgg.features.children()) \n",
    "        self.main = nn.Sequential(*layers)\n",
    "        self.fc = nn.Sequential(\n",
    "            nn.Linear(512, 512),\n",
    "            nn.ReLU(),\n",
    "            nn.Linear(512, 128),\n",
    "            nn.ReLU(),\n",
    "            nn.Linear(128, 10),\n",
    "        )\n",
    "\n",
    "    def forward(self, x):\n",
    "        x = self.main(x)\n",
    "        x = x.squeeze()\n",
    "        x = self.fc(x) \n",
    "        return x"
   ]
  },
  {
   "cell_type": "code",
   "execution_count": 0,
   "metadata": {
    "colab": {
     "autoexec": {
      "startup": false,
      "wait_interval": 0
     }
    },
    "colab_type": "code",
    "collapsed": true,
    "id": "CwO4ftQU04E1"
   },
   "outputs": [],
   "source": [
    "cifar_net = CIFAR_Net(pre_vgg).cuda() # 생성한 뉴럴넷 Instance를 생성하고 빠른 학습을 위해 cuda 에 올립니다. \n",
    "criterion = nn.CrossEntropyLoss() # Loss Function을 정의 합니다. 여기서는 cross entrophy loss 를 사용합니다. \n",
    "optimizer = optim.Adam(cifar_net.parameters(), lr=0.001) # optimizer는 이와 같이 training 할 Parameter와 learning rate를 인자로 줍니다. "
   ]
  },
  {
   "cell_type": "code",
   "execution_count": 0,
   "metadata": {
    "colab": {
     "autoexec": {
      "startup": false,
      "wait_interval": 0
     }
    },
    "colab_type": "code",
    "collapsed": true,
    "id": "vMVV2ZbC03gW"
   },
   "outputs": [],
   "source": [
    "train_network(cifar_net,optimizer,trainDataLoader, epochs=1)"
   ]
  },
  {
   "cell_type": "code",
   "execution_count": 0,
   "metadata": {
    "colab": {
     "autoexec": {
      "startup": false,
      "wait_interval": 0
     }
    },
    "colab_type": "code",
    "collapsed": true,
    "id": "4wTvHMdS1A-h"
   },
   "outputs": [],
   "source": [
    "test(cifar_net,testDataLoader)"
   ]
  },
  {
   "cell_type": "markdown",
   "metadata": {
    "colab_type": "text",
    "id": "WFGM8rs2AT1A"
   },
   "source": [
    "## 수고하셨습니다 :)"
   ]
  }
 ],
 "metadata": {
  "accelerator": "GPU",
  "colab": {
   "collapsed_sections": [],
   "default_view": {},
   "name": "Training_Neural_Network2_question.ipynb",
   "provenance": [],
   "version": "0.3.2",
   "views": {}
  },
  "kernelspec": {
   "display_name": "Python 3",
   "language": "python",
   "name": "python3"
  },
  "language_info": {
   "codemirror_mode": {
    "name": "ipython",
    "version": 3
   },
   "file_extension": ".py",
   "mimetype": "text/x-python",
   "name": "python",
   "nbconvert_exporter": "python",
   "pygments_lexer": "ipython3",
   "version": "3.6.1"
  }
 },
 "nbformat": 4,
 "nbformat_minor": 1
}
