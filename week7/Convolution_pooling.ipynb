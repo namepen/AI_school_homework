{
 "cells": [
  {
   "cell_type": "code",
   "execution_count": 1,
   "metadata": {},
   "outputs": [],
   "source": [
    "#Setting\n",
    "import numpy as np\n",
    "import matplotlib.pyplot as plt\n",
    "\n",
    "np.random.seed(1)\n",
    "\n",
    "# 원활한 채점을 위해 각 함수 안의 내용만 변경해주세요.\n",
    "# padding()\n",
    "# conv_calc()\n",
    "# conv_fwd_layer()\n",
    "# pool_fwd_layer()"
   ]
  },
  {
   "cell_type": "code",
   "execution_count": 16,
   "metadata": {},
   "outputs": [],
   "source": [
    "# Q1 padding\n",
    "def padding(X, pad_val):\n",
    "    \"\"\"\n",
    "    들어온 입력 X를 pad_val만큼 각 축에 대해 0으로 padding\n",
    "\n",
    "    Argument:\n",
    "    X -- (m, n_H, n_W, n_C) shape의 numpy array, m:배치 사이즈, h:이미지 높이, w:이미지 넓이, c:이미지 채널\n",
    "    pad_val -- integer 값, padding 크기\n",
    "\n",
    "    Returns:\n",
    "    padded_input -- padding된 이미지의 shape (m, n_H + 2*pad_val, n_W + 2*pad_val, n_C)\n",
    "    \"\"\"\n",
    "    padded_X = np.pad(array=X, pad_width=((0,0),(pad_val,pad_val),(pad_val,pad_val),(0,0)), mode='constant', constant_values = 0)\n",
    "\n",
    "    return padded_X"
   ]
  },
  {
   "cell_type": "code",
   "execution_count": 17,
   "metadata": {},
   "outputs": [
    {
     "name": "stdout",
     "output_type": "stream",
     "text": [
      "four_X.shape (4, 3, 3, 2)\n",
      "four_X.shape (4, 3, 3, 2)\n",
      "padded_four_X.shape (4, 7, 7, 2)\n",
      "padded_four_X.shape (4, 7, 7, 2)\n",
      "four_X[1, 1] = [[ 0.90085595 -0.68372786]\n",
      " [-0.12289023 -0.93576943]\n",
      " [-0.26788808  0.53035547]]\n",
      "four_X[1, 1] = [[ 0.90085595 -0.68372786] [-0.12289023 -0.93576943] [-0.26788808 0.53035547]]\n",
      "padded_four_X[1, 1] = [[0. 0.]\n",
      " [0. 0.]\n",
      " [0. 0.]\n",
      " [0. 0.]\n",
      " [0. 0.]\n",
      " [0. 0.]\n",
      " [0. 0.]]\n",
      "padded_four_X[1, 1] = [[ 0. 0.] [ 0. 0.] [ 0. 0.] [ 0. 0.] [ 0. 0.] [ 0. 0.] [ 0. 0.]]\n"
     ]
    }
   ],
   "source": [
    "# 결과 비교를 위한 값\n",
    "np.random.seed(1)\n",
    "four_X = np.random.randn(4, 3, 3, 2)\n",
    "print(\"four_X.shape\", four_X.shape)\n",
    "print(\"four_X.shape\", \"(4, 3, 3, 2)\")\n",
    "padded_four_X = padding(four_X, 2)\n",
    "print(\"padded_four_X.shape\", padded_four_X.shape)\n",
    "print(\"padded_four_X.shape\", \"(4, 7, 7, 2)\")\n",
    "print (\"four_X[1, 1] =\", four_X[1, 1])\n",
    "print(\"four_X[1, 1] =\",\"[[ 0.90085595 -0.68372786] [-0.12289023 -0.93576943] [-0.26788808 0.53035547]]\")\n",
    "print (\"padded_four_X[1, 1] =\", padded_four_X[1, 1])\n",
    "print(\"padded_four_X[1, 1] =\",\"[[ 0. 0.] [ 0. 0.] [ 0. 0.] [ 0. 0.] [ 0. 0.] [ 0. 0.] [ 0. 0.]]\")"
   ]
  },
  {
   "cell_type": "code",
   "execution_count": null,
   "metadata": {},
   "outputs": [],
   "source": [
    "four_X[0]"
   ]
  },
  {
   "cell_type": "code",
   "execution_count": null,
   "metadata": {},
   "outputs": [],
   "source": [
    "np.pad(array=four_X, pad_width=[(0,0),(2,2),(2,2),(0,0)], mode='constant', constant_values = 0)"
   ]
  },
  {
   "cell_type": "code",
   "execution_count": 18,
   "metadata": {},
   "outputs": [
    {
     "data": {
      "text/plain": [
       "<matplotlib.image.AxesImage at 0x1cf02c724e0>"
      ]
     },
     "execution_count": 18,
     "metadata": {},
     "output_type": "execute_result"
    },
    {
     "data": {
      "image/png": "[encoded data removed]",
      "text/plain": [
       "<Figure size 432x288 with 2 Axes>"
      ]
     },
     "metadata": {},
     "output_type": "display_data"
    }
   ],
   "source": [
    "# 이전값과 출력값을 시각적으로 확인하기 위한 코드\n",
    "% matplotlib inline\n",
    "fig, axarr = plt.subplots(1, 2)\n",
    "axarr[0].set_title('x')\n",
    "axarr[0].imshow(four_X[0, :, :, 0])\n",
    "axarr[1].set_title('x_pad')\n",
    "axarr[1].imshow(padded_four_X[0, :, :, 0])"
   ]
  },
  {
   "cell_type": "code",
   "execution_count": 19,
   "metadata": {},
   "outputs": [],
   "source": [
    "def conv_calc(a_sliced_image, W, b):\n",
    "    \"\"\"\n",
    "    W와 b로 정의된 필터를 입력 이미지의 한 부분에 적용\n",
    "\n",
    "    Arguments:\n",
    "    a_sliced_image -- 입력 이미지의 한 조각 (f, f, n_C_prev)\n",
    "    W -- 현재 필터의 가중치 - matrix of shape (f, f, n_C_prev)\n",
    "    b -- 현재 필터의 바이어스 - matrix of shape (1, 1, 1)\n",
    "\n",
    "    Returns:\n",
    "    Z -- 스칼라 값, Convolution한 결과\n",
    "    \"\"\"\n",
    "\n",
    "    # a_sliced_image와 W에 대해 Element-wise product 연산 후 b를 더함\n",
    "    tmp = np.multiply(a_sliced_image, W) + b\n",
    "    # s의 모든 값을 덧셈\n",
    "    V = np.sum(tmp)\n",
    "\n",
    "    return V"
   ]
  },
  {
   "cell_type": "code",
   "execution_count": 20,
   "metadata": {},
   "outputs": [
    {
     "name": "stdout",
     "output_type": "stream",
     "text": [
      "conv_calc_result = -23.16021220252078\n",
      "V =  -23.1602122025\n"
     ]
    }
   ],
   "source": [
    "# 결과 비교를 위한 값\n",
    "np.random.seed(1)\n",
    "a_sliced_image = np.random.randn(4, 4, 3)\n",
    "W = np.random.randn(4, 4, 3)\n",
    "b = np.random.randn(1, 1, 1)\n",
    "\n",
    "conv_calc_result = conv_calc(a_sliced_image, W, b)\n",
    "print(\"conv_calc_result =\", conv_calc_result)\n",
    "print(\"V = \",\"-23.1602122025\")"
   ]
  },
  {
   "cell_type": "code",
   "execution_count": 21,
   "metadata": {},
   "outputs": [],
   "source": [
    "hparameters = {\"pad\": 2,\n",
    "               \"stride\": 1}"
   ]
  },
  {
   "cell_type": "code",
   "execution_count": 28,
   "metadata": {},
   "outputs": [],
   "source": [
    "def conv_fwd_layer(X_prev, W, b, hparameters):\n",
    "    (m, n_H_prev, n_W_prev, n_C_prev) = X_prev.shape\n",
    "\n",
    "    (f, f, n_C_prev, n_C) = W.shape\n",
    "\n",
    "    stride = hparameters['stride']\n",
    "    pad = hparameters['pad']\n",
    "\n",
    "    n_H = np.int(((n_H_prev - f+ 2*pad) / stride) + 1) \n",
    "    n_W = np.int(((n_W_prev - f+ 2*pad) / stride) + 1)\n",
    "\n",
    "    Z = np.array(np.zeros((m, n_H, n_W, n_C)))\n",
    "    #print('z: ', Z.shape)\n",
    "\n",
    "    X_prev_pad = padding(X=X_prev, pad_val= pad)\n",
    "    \n",
    "    #print('X_prev_pad : ', X_prev_pad.shape)\n",
    "    for i in range(m):  # 배치 사이즈만큼 loop\n",
    "        a_prev_pad = X_prev_pad[i]  # padding이 된 입력들에서 i번째 입력을 가져옴\n",
    "        #print(a_prev_pad)\n",
    "        for h in range(n_H):  # 출력 레이어의 높이 만큼 loop\n",
    "            for w in range(n_W):  # 출력 레이어의 넓이 만큼 loop\n",
    "                for c in range(n_C):  # 출력 레이어의 체널 만큼 loop(= #filters)\n",
    "                    # loop의 인덱스를 이용하여 출력 레이어에 들어갈 값 계산\n",
    "                    vert_start = h\n",
    "                    vert_end = h+ f\n",
    "                    horiz_start = w\n",
    "                    horiz_end = w + f\n",
    "                    # i번째 padding된 입력에서 위에서 계산한 오프셋값들을 사용하여 필터 크기만큼의 조각을 가져옴\n",
    "                    a_slice_prev = a_prev_pad[vert_start:vert_end, horiz_start:horiz_end, :]\n",
    "                    #print('slice ', a_slice_prev.shape)\n",
    "                    # conv_calc()를 활용하여 가져온 조각(3D)에 대해 Convolution연산을 한 다음 출력 레이어의 해당 부분에 입력\n",
    "                    Z[i, h, w, c] = conv_calc(a_slice_prev, W[..., c], b[..., c])\n",
    "\n",
    "    assert (Z.shape == (m, n_H, n_W, n_C))\n",
    "\n",
    "    return Z\n"
   ]
  },
  {
   "cell_type": "code",
   "execution_count": 29,
   "metadata": {},
   "outputs": [
    {
     "name": "stdout",
     "output_type": "stream",
     "text": [
      "conv_fwd_layer_result의 평균 = 0.15585932488906465\n",
      "conv_fwd_layer_result의 평균 = 0.155859324889\n",
      "X_prev.shape (10, 4, 4, 3) conv_fwd_layer_result.shape (10, 7, 7, 8)\n",
      "X_prev.shape (10, 4, 4, 3)  conv_fwd_layer_result.shape (10, 7, 7, 8)\n"
     ]
    }
   ],
   "source": [
    "# 결과 비교를 위한 값\n",
    "np.random.seed(1)\n",
    "X_prev = np.random.randn(10, 4, 4, 3)\n",
    "W = np.random.randn(2, 2, 3, 8)\n",
    "b = np.random.randn(1, 1, 1, 8)\n",
    "hparameters = {\"pad\": 2,\n",
    "               \"stride\": 1}\n",
    "\n",
    "conv_fwd_layer_result = conv_fwd_layer(X_prev, W, b, hparameters)\n",
    "print(\"conv_fwd_layer_result의 평균 =\", np.mean(conv_fwd_layer_result))\n",
    "print(\"conv_fwd_layer_result의 평균 =\", \"0.155859324889\")\n",
    "print(\"X_prev.shape\", X_prev.shape, \"conv_fwd_layer_result.shape\", \"(10, 7, 7, 8)\")\n",
    "print(\"X_prev.shape\", \"(10, 4, 4, 3) \", \"conv_fwd_layer_result.shape\", conv_fwd_layer_result.shape)"
   ]
  },
  {
   "cell_type": "code",
   "execution_count": null,
   "metadata": {},
   "outputs": [],
   "source": [
    "def conv_fwd_layer(X_prev, W, b, hparameters):\n",
    "    print('X_prev', X_prev.shape)\n",
    "    print('W', W.shape)\n",
    "    print('b', b.shape)\n",
    "    \"\"\"\n",
    "    convolution function의 forward pass 동작을 구현\n",
    "\n",
    "    입력 A_prev에 대해 Convolution filter W를 적용해보세요.\n",
    "    각각의 필터 F(f,f)는 가중치 W와 bias b로 구성되어 있습니다.\n",
    "    padding과 stride를 하기 위한 설정값은 hparameters에 들어있습니다.\n",
    "\n",
    "    Arguments:\n",
    "    X_prev -- 이전 레이어의 출력 값들, numpy array of shape (m, n_H_prev, n_W_prev, n_C_prev)\n",
    "    W -- 현재 필터의 가중치들 - matrix of shape (f, f, n_C_prev, n_C)\n",
    "    b -- 현재 필터의 바이어스들 - matrix of shape (1, 1, 1, n_C)\n",
    "    hparameters -- stride 크기와 pad 크기를 가지고 있는 dictionary\n",
    "\n",
    "    Returns:\n",
    "    Z -- Convolution 결과값, numpy array of shape (m, n_H, n_W, n_C)\n",
    "    \"\"\"\n",
    "\n",
    "    # 이전 레이어의 사이즈를 가져옴\n",
    "    (m, n_H_prev, n_W_prev, n_C_prev) = X_prev.shape\n",
    "\n",
    "    # W의 사이즈를 가져옴\n",
    "    (f, f, n_C_prev, n_C) = W.shape\n",
    "\n",
    "    # hparameters에서 'stride'와 'pad' 가져오기\n",
    "    stride = hparameters['stride']\n",
    "    pad = hparameters['pad']\n",
    "\n",
    "    # 팁의 수식을 이용해서 출력 Conv레이어의 높이와 넓이 구하기, Hint: use int() to floor\n",
    "    n_H = np.int(((n_H_prev - f + 2*pad) / stride) + 1)\n",
    "    n_W = np.int(((n_W_prev - f + 2*pad) / stride) + 1)\n",
    "    print('n_H', n_H, 'n_W',n_W)\n",
    "    # 출력 Conv레이어를 0으로 초기화, Hint: use np.zeros()\n",
    "    Z = np.zeros([m, n_H, n_W, n_C_prev])\n",
    "    print(Z.shape)\n",
    "\n",
    "    # 이전 레이어 출력 X_prev에 위에서 구현한 padding()을 사용하여 padding하기\n",
    "    X_prev_pad = padding(pad_val=pad, X= X_prev)\n",
    "    print('X_prev_pad',X_prev_pad.shape)\n",
    "    for i in range(m):  # 배치 사이즈만큼 loop\n",
    "        a_prev_pad = X_prev_pad[i]  # padding이 된 입력들에서 i번째 입력을 가져옴\n",
    "        print('a_prev_pad',a_prev_pad.shape)\n",
    "        for h in range(n_H):  # 출력 레이어의 높이 만큼 loop\n",
    "            for w in range(n_W):  # 출력 레이어의 넓이 만큼 loop\n",
    "                for c in range(n_C):  # 출력 레이어의 체널 만큼 loop(= #filters)\n",
    "                    # loop의 인덱스를 이용하여 출력 레이어에 들어갈 값 계산\n",
    "                    vert_start = h\n",
    "                    print('vert_start',vert_start)\n",
    "                    vert_end = h + f\n",
    "                    print('vert_end',vert_end)\n",
    "                    horiz_start = w\n",
    "                    print('horiz_start',horiz_start)\n",
    "                    horiz_end = w + f\n",
    "                    print('horiz_end',horiz_end)\n",
    "                    # i번째 padding된 입력에서 위에서 계산한 오프셋값들을 사용하여 필터 크기만큼의 조각을 가져옴\n",
    "                    a_slice_prev = a_prev_pad[vert_start:vert_end, horiz_start:horiz_end, :]\n",
    "                    print(a_slice_prev.shape)\n",
    "                    print(W.shape)\n",
    "                    # conv_calc()를 활용하여 가져온 조각(3D)에 대해 Convolution연산을 한 다음 출력 레이어의 해당 부분에 입력\n",
    "                    Z[i, h, w, c] = conv_calc(a_slice_prev, W[..., c], b[..., c])\n",
    "                    # 계산된 Z에 대해 활성화 함수를 통과시키면 되나 이번 문제에서는 생략함\n",
    "                    # A[i, h, w, c] = relu(Z[i, h, w, c])\n",
    "\n",
    "    ### 아래 코드 부터는 변경할 필요 없음\n",
    "    # 최종 출력 레이어의 크기와 초기화한 출력레이어의 크기를 비교\n",
    "    assert (Z.shape == (m, n_H, n_W, n_C))\n",
    "\n",
    "    return Z"
   ]
  },
  {
   "cell_type": "code",
   "execution_count": null,
   "metadata": {},
   "outputs": [],
   "source": [
    "W = np.random.randn(2, 2, 3, 8)"
   ]
  },
  {
   "cell_type": "code",
   "execution_count": null,
   "metadata": {},
   "outputs": [],
   "source": [
    "W[...,0].shape"
   ]
  },
  {
   "cell_type": "code",
   "execution_count": null,
   "metadata": {},
   "outputs": [],
   "source": [
    "X_prev1 = np.random.randn(10, 4, 4, 5)"
   ]
  },
  {
   "cell_type": "code",
   "execution_count": null,
   "metadata": {},
   "outputs": [],
   "source": [
    "padding(X_prev1, 2).shape"
   ]
  },
  {
   "cell_type": "code",
   "execution_count": null,
   "metadata": {},
   "outputs": [],
   "source": [
    "# 결과 비교를 위한 값\n",
    "np.random.seed(1)\n",
    "X_prev = np.random.randn(10, 4, 4, 3)\n",
    "W = np.random.randn(2, 2, 3, 8)\n",
    "b = np.random.randn(1, 1, 1, 8)\n",
    "hparameters = {\"pad\": 2,\n",
    "               \"stride\": 1}\n",
    "\n",
    "conv_fwd_layer_result = conv_fwd_layer(X_prev, W, b, hparameters)\n",
    "print(\"conv_fwd_layer_result의 평균 =\", np.mean(conv_fwd_layer_result))\n",
    "print(\"conv_fwd_layer_result의 평균 =\", \"0.155859324889\")\n",
    "print(\"X_prev.shape\", X_prev.shape, \"conv_fwd_layer_result.shape\", \"(10, 7, 7, 8)\")\n",
    "print(\"X_prev.shape\", \"(10, 4, 4, 3) \", \"conv_fwd_layer_result.shape\", conv_fwd_layer_result.shape)"
   ]
  },
  {
   "cell_type": "code",
   "execution_count": 32,
   "metadata": {},
   "outputs": [],
   "source": [
    "def pool_fwd_layer(A_prev, hparameters, mode=\"max\"):\n",
    "    \"\"\"\n",
    "    Pooling layer의 forward pass 동작을 구현\n",
    "\n",
    "    Arguments:\n",
    "    A_prev -- 입력데이터, numpy array of shape (m, n_H_prev, n_W_prev, n_C_prev)\n",
    "    hparameters -- 필터 사이즈 f와 stride 크기를 가지고 있는 dictionary\n",
    "    mode -- pooling mode (\"max\" or \"average\")\n",
    "\n",
    "    Returns:\n",
    "    A -- Pool layer의 출력, a numpy array of shape (m, n_H, n_W, n_C)\n",
    "    \"\"\"\n",
    "\n",
    "    # 이전 레이어의 사이즈를 가져옴\n",
    "    (m, n_H_prev, n_W_prev, n_C_prev) = A_prev.shape\n",
    "\n",
    "    # hparameters에서 'f'와 'stride' 가져오기\n",
    "    f = hparameters['f']\n",
    "    #\n",
    "    stride = hparameters['stride']\n",
    "\n",
    "    # 출력 shape 정의\n",
    "    n_H = np.int(((n_H_prev -f)/stride)+1)\n",
    "    n_W = np.int(((n_W_prev - f)/stride)+1)\n",
    "    n_C = n_C_prev\n",
    "\n",
    "    # 출력 matrix A 초기화\n",
    "    A = np.zeros([m, n_H, n_W, n_C])\n",
    "\n",
    "    for i in range(m):  # 배치 사이즈만큼 loop\n",
    "        for h in range(n_H):  # 출력 레이어의 높이 만큼 loop\n",
    "            for w in range(n_W):  # 출력 레이어의 넓이 만큼 loop\n",
    "                for c in range(n_C):  # 출력 레이어의 체널 만큼 loop(= #filters)\n",
    "\n",
    "                    # loop의 인덱스를 이용하여 출력 레이어에 들어갈 값 계산\n",
    "                    vert_start = h\n",
    "                    vert_end = h+f\n",
    "                    horiz_start = w\n",
    "                    horiz_end = w+f\n",
    "\n",
    "                    # 배치의 i번째 입력에서 위에서 계산한 오프셋값들을 사용하여 필터 크기만큼의 조각을 가져옴\n",
    "                    a_prev_slice = A_prev[i, vert_start : vert_end, horiz_start : horiz_end, c]\n",
    "\n",
    "                    # mode값에 따라 \"max\" 또는 \"average\" pooling연산 수행 Hint: Use np.max/np.mean.\n",
    "                    if mode == \"max\":\n",
    "                        A[i, h, w, c] = np.max(a_prev_slice)\n",
    "                    elif mode == \"average\":\n",
    "                        A[i, h, w, c] = np.average(a_prev_slice)\n",
    "\n",
    "    ### 아래 코드 부터는 변경할 필요 없음\n",
    "    # 최종 출력 레이어의 크기와 초기화한 출력레이어의 크기를 비교\n",
    "    assert (A.shape == (m, n_H, n_W, n_C))\n",
    "\n",
    "    return A"
   ]
  },
  {
   "cell_type": "code",
   "execution_count": 33,
   "metadata": {},
   "outputs": [
    {
     "name": "stdout",
     "output_type": "stream",
     "text": [
      "mode = max\n",
      "pool_fwd_layer_max_result = [[[[1.74481176 1.6924546  2.10025514]]]\n",
      "\n",
      "\n",
      " [[[1.19891788 1.51981682 2.18557541]]]]\n",
      "pool_fwd_layer_max_result = [[[[ 1.74481176 1.6924546 2.10025514]]]\n",
      "[[[ 1.19891788 1.51981682 2.18557541]]]]\n",
      "\n",
      "mode = average\n",
      "pool_fwd_layer_avg_result = [[[[-0.09498456  0.11180064 -0.14263511]]]\n",
      "\n",
      "\n",
      " [[[-0.09525108  0.28325018  0.33035185]]]]\n",
      "pool_fwd_layer_avg_result = [[[[-0.09498456 0.11180064 -0.14263511]]]\n",
      "[[[-0.09525108 0.28325018 0.33035185]]]]\n"
     ]
    }
   ],
   "source": [
    "np.random.seed(1)\n",
    "A_prev = np.random.randn(2, 4, 4, 3)\n",
    "hparameters = {\"stride\": 1, \"f\": 4}\n",
    "\n",
    "pool_fwd_layer_max_result = pool_fwd_layer(A_prev, hparameters)\n",
    "print(\"mode = max\")\n",
    "print(\"pool_fwd_layer_max_result =\", pool_fwd_layer_max_result)\n",
    "print(\"pool_fwd_layer_max_result =\", \"[[[[ 1.74481176 1.6924546 2.10025514]]]\\n[[[ 1.19891788 1.51981682 2.18557541]]]]\")\n",
    "print()\n",
    "pool_fwd_layer_avg_result = pool_fwd_layer(A_prev, hparameters, mode=\"average\")\n",
    "print(\"mode = average\")\n",
    "print(\"pool_fwd_layer_avg_result =\", pool_fwd_layer_avg_result)\n",
    "print(\"pool_fwd_layer_avg_result =\", \"[[[[-0.09498456 0.11180064 -0.14263511]]]\\n[[[-0.09525108 0.28325018 0.33035185]]]]\")"
   ]
  },
  {
   "cell_type": "code",
   "execution_count": null,
   "metadata": {},
   "outputs": [],
   "source": []
  }
 ],
 "metadata": {
  "kernelspec": {
   "display_name": "Python 3",
   "language": "python",
   "name": "python3"
  },
  "language_info": {
   "codemirror_mode": {
    "name": "ipython",
    "version": 3
   },
   "file_extension": ".py",
   "mimetype": "text/x-python",
   "name": "python",
   "nbconvert_exporter": "python",
   "pygments_lexer": "ipython3",
   "version": "3.6.5"
  }
 },
 "nbformat": 4,
 "nbformat_minor": 2
}
